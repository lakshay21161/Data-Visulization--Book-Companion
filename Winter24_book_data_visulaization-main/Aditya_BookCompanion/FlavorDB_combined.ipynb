{
  "nbformat": 4,
  "nbformat_minor": 0,
  "metadata": {
    "colab": {
      "provenance": []
    },
    "kernelspec": {
      "name": "python3",
      "display_name": "Python 3"
    },
    "language_info": {
      "name": "python"
    }
  },
  "cells": [
    {
      "cell_type": "code",
      "execution_count": 13,
      "metadata": {
        "colab": {
          "base_uri": "https://localhost:8080/"
        },
        "id": "QJuhTPXa1snI",
        "outputId": "1b111932-a1c3-4894-f416-2f2b09e058ab"
      },
      "outputs": [
        {
          "output_type": "stream",
          "name": "stdout",
          "text": [
            "Requirement already satisfied: dash in /usr/local/lib/python3.10/dist-packages (2.16.1)\n",
            "Requirement already satisfied: plotly in /usr/local/lib/python3.10/dist-packages (5.15.0)\n",
            "Requirement already satisfied: Flask<3.1,>=1.0.4 in /usr/local/lib/python3.10/dist-packages (from dash) (2.2.5)\n",
            "Requirement already satisfied: Werkzeug<3.1 in /usr/local/lib/python3.10/dist-packages (from dash) (3.0.2)\n",
            "Requirement already satisfied: dash-html-components==2.0.0 in /usr/local/lib/python3.10/dist-packages (from dash) (2.0.0)\n",
            "Requirement already satisfied: dash-core-components==2.0.0 in /usr/local/lib/python3.10/dist-packages (from dash) (2.0.0)\n",
            "Requirement already satisfied: dash-table==5.0.0 in /usr/local/lib/python3.10/dist-packages (from dash) (5.0.0)\n",
            "Requirement already satisfied: importlib-metadata in /usr/local/lib/python3.10/dist-packages (from dash) (7.1.0)\n",
            "Requirement already satisfied: typing-extensions>=4.1.1 in /usr/local/lib/python3.10/dist-packages (from dash) (4.11.0)\n",
            "Requirement already satisfied: requests in /usr/local/lib/python3.10/dist-packages (from dash) (2.31.0)\n",
            "Requirement already satisfied: retrying in /usr/local/lib/python3.10/dist-packages (from dash) (1.3.4)\n",
            "Requirement already satisfied: nest-asyncio in /usr/local/lib/python3.10/dist-packages (from dash) (1.6.0)\n",
            "Requirement already satisfied: setuptools in /usr/local/lib/python3.10/dist-packages (from dash) (67.7.2)\n",
            "Requirement already satisfied: tenacity>=6.2.0 in /usr/local/lib/python3.10/dist-packages (from plotly) (8.2.3)\n",
            "Requirement already satisfied: packaging in /usr/local/lib/python3.10/dist-packages (from plotly) (24.0)\n",
            "Requirement already satisfied: Jinja2>=3.0 in /usr/local/lib/python3.10/dist-packages (from Flask<3.1,>=1.0.4->dash) (3.1.3)\n",
            "Requirement already satisfied: itsdangerous>=2.0 in /usr/local/lib/python3.10/dist-packages (from Flask<3.1,>=1.0.4->dash) (2.2.0)\n",
            "Requirement already satisfied: click>=8.0 in /usr/local/lib/python3.10/dist-packages (from Flask<3.1,>=1.0.4->dash) (8.1.7)\n",
            "Requirement already satisfied: MarkupSafe>=2.1.1 in /usr/local/lib/python3.10/dist-packages (from Werkzeug<3.1->dash) (2.1.5)\n",
            "Requirement already satisfied: zipp>=0.5 in /usr/local/lib/python3.10/dist-packages (from importlib-metadata->dash) (3.18.1)\n",
            "Requirement already satisfied: charset-normalizer<4,>=2 in /usr/local/lib/python3.10/dist-packages (from requests->dash) (3.3.2)\n",
            "Requirement already satisfied: idna<4,>=2.5 in /usr/local/lib/python3.10/dist-packages (from requests->dash) (3.7)\n",
            "Requirement already satisfied: urllib3<3,>=1.21.1 in /usr/local/lib/python3.10/dist-packages (from requests->dash) (2.0.7)\n",
            "Requirement already satisfied: certifi>=2017.4.17 in /usr/local/lib/python3.10/dist-packages (from requests->dash) (2024.2.2)\n",
            "Requirement already satisfied: six>=1.7.0 in /usr/local/lib/python3.10/dist-packages (from retrying->dash) (1.16.0)\n"
          ]
        }
      ],
      "source": [
        "pip install dash plotly"
      ]
    },
    {
      "cell_type": "markdown",
      "source": [
        "## Natural Occurance"
      ],
      "metadata": {
        "id": "82dpFAy-BZPy"
      }
    },
    {
      "cell_type": "code",
      "source": [
        "import dash\n",
        "from dash import dcc, html\n",
        "from dash.dependencies import Input, Output\n",
        "import plotly.graph_objs as go\n",
        "import pandas as pd\n",
        "\n",
        "\n",
        "# Read the CSV file\n",
        "df = pd.read_csv(\"fdb_fn_properties.csv\")\n",
        "\n",
        "# Filter out empty cells and categorize based on 'not' prefix\n",
        "filtered_data = df[df['Natural_occurrence'].notnull()]\n",
        "categorized_data = filtered_data['Natural_occurrence'].apply(lambda x: 'Not naturally occuring' if x.startswith('Not') else 'Naturally occuring')\n",
        "\n",
        "# Count occurrences of each category\n",
        "counts = categorized_data.value_counts()\n",
        "\n",
        "# Sample data for the bar chart\n",
        "x_data = counts.index\n",
        "y_data = counts\n",
        "\n",
        "# Sample data for the pie chart\n",
        "labels = counts.index\n",
        "values = counts\n",
        "\n",
        "# Initialize the Dash app\n",
        "app = dash.Dash(__name__)\n",
        "\n",
        "# Define the layout of the app\n",
        "app.layout = html.Div([\n",
        "    html.H1(\"Bar Chart & Pie Chart\"),\n",
        "    dcc.Dropdown(\n",
        "        id='chart-type',\n",
        "        options=[\n",
        "            {'label': 'Bar', 'value': 'bar'},\n",
        "            {'label': 'Pie', 'value': 'pie'}\n",
        "        ],\n",
        "        value='bar'\n",
        "    ),\n",
        "    dcc.Graph(id='chart')\n",
        "])\n",
        "\n",
        "# Define callback to update the graph based on dropdown selection\n",
        "@app.callback(\n",
        "    Output('chart', 'figure'),\n",
        "    [Input('chart-type', 'value')]\n",
        ")\n",
        "def update_chart(chart_type):\n",
        "    if chart_type == 'bar':\n",
        "        trace = go.Bar(x=x_data, y=y_data)\n",
        "        layout = go.Layout(title='Natural Occurence')\n",
        "    else:\n",
        "        trace = go.Pie(labels=labels, values=values)\n",
        "        layout = go.Layout(title='Natural Occurence')\n",
        "    return {'data': [trace], 'layout': layout}\n",
        "\n",
        "# Run the app\n",
        "if __name__ == '__main__':\n",
        "    app.run_server(debug=True)\n"
      ],
      "metadata": {
        "colab": {
          "base_uri": "https://localhost:8080/",
          "height": 672
        },
        "id": "xOERoOaY2dbC",
        "outputId": "9b40fd52-948a-4ff6-dcd3-5635c7121a35"
      },
      "execution_count": null,
      "outputs": [
        {
          "output_type": "display_data",
          "data": {
            "text/plain": [
              "<IPython.core.display.Javascript object>"
            ],
            "application/javascript": [
              "(async (port, path, width, height, cache, element) => {\n",
              "    if (!google.colab.kernel.accessAllowed && !cache) {\n",
              "      return;\n",
              "    }\n",
              "    element.appendChild(document.createTextNode(''));\n",
              "    const url = await google.colab.kernel.proxyPort(port, {cache});\n",
              "    const iframe = document.createElement('iframe');\n",
              "    iframe.src = new URL(path, url).toString();\n",
              "    iframe.height = height;\n",
              "    iframe.width = width;\n",
              "    iframe.style.border = 0;\n",
              "    iframe.allow = [\n",
              "        'accelerometer',\n",
              "        'autoplay',\n",
              "        'camera',\n",
              "        'clipboard-read',\n",
              "        'clipboard-write',\n",
              "        'gyroscope',\n",
              "        'magnetometer',\n",
              "        'microphone',\n",
              "        'serial',\n",
              "        'usb',\n",
              "        'xr-spatial-tracking',\n",
              "    ].join('; ');\n",
              "    element.appendChild(iframe);\n",
              "  })(8050, \"/\", \"100%\", 650, false, window.element)"
            ]
          },
          "metadata": {}
        }
      ]
    },
    {
      "cell_type": "markdown",
      "source": [
        "## IOFI Distribution"
      ],
      "metadata": {
        "id": "Os5dKxiXBgHL"
      }
    },
    {
      "cell_type": "code",
      "source": [
        "import dash\n",
        "from dash import dcc, html\n",
        "from dash.dependencies import Input, Output\n",
        "import plotly.graph_objs as go\n",
        "import pandas as pd\n",
        "\n",
        "\n",
        "# Read the CSV file\n",
        "df = pd.read_csv(\"fdb_fn_properties.csv\")\n",
        "\n",
        "# Filter out empty cells and categorize based on 'not' prefix\n",
        "filtered_data = df.dropna(subset=['IOFI'])\n",
        "def categorize_iofi(iofi):\n",
        "    if iofi.lower() == 'artificial':\n",
        "        return 'Artificial'\n",
        "    elif iofi.lower() == 'natural':\n",
        "        return 'Natural'\n",
        "    elif iofi.lower() == 'nature identical':\n",
        "        return 'Nature identical'\n",
        "    else:\n",
        "        return 'Others'\n",
        "\n",
        "# Apply categorization\n",
        "filtered_data['IOFI_Category'] = filtered_data['IOFI'].apply(categorize_iofi)\n",
        "\n",
        "# Count occurrences of each category\n",
        "counts = filtered_data['IOFI_Category'].value_counts()\n",
        "# Count occurrences of each category\n",
        "# Sample data for the bar chart\n",
        "x_data = counts.index\n",
        "y_data = counts\n",
        "\n",
        "# Sample data for the pie chart\n",
        "labels = counts.index\n",
        "values = counts\n",
        "\n",
        "# Initialize the Dash app\n",
        "app = dash.Dash(__name__)\n",
        "\n",
        "# Define the layout of the app\n",
        "app.layout = html.Div([\n",
        "    html.H1(\"Bar Chart & Pie Chart\"),\n",
        "    dcc.Dropdown(\n",
        "        id='chart-type',\n",
        "        options=[\n",
        "            {'label': 'Bar', 'value': 'bar'},\n",
        "            {'label': 'Pie', 'value': 'pie'}\n",
        "        ],\n",
        "        value='bar'\n",
        "    ),\n",
        "    dcc.Graph(id='chart')\n",
        "])\n",
        "\n",
        "# Define callback to update the graph based on dropdown selection\n",
        "@app.callback(\n",
        "    Output('chart', 'figure'),\n",
        "    [Input('chart-type', 'value')]\n",
        ")\n",
        "def update_chart(chart_type):\n",
        "    if chart_type == 'bar':\n",
        "        trace = go.Bar(x=x_data, y=y_data)\n",
        "        layout = go.Layout(title='IOFI Distribution')\n",
        "    else:\n",
        "        trace = go.Pie(labels=labels, values=values)\n",
        "        layout = go.Layout(title='IOFI Distribution')\n",
        "    return {'data': [trace], 'layout': layout}\n",
        "\n",
        "# Run the app\n",
        "if __name__ == '__main__':\n",
        "    app.run_server(debug=True)\n"
      ],
      "metadata": {
        "id": "I2r5Jw7B2kdi"
      },
      "execution_count": null,
      "outputs": []
    },
    {
      "cell_type": "markdown",
      "source": [
        "## Enery Distribution"
      ],
      "metadata": {
        "id": "Uj-WtkJRBkkv"
      }
    },
    {
      "cell_type": "code",
      "source": [
        "import pandas as pd\n",
        "import matplotlib.pyplot as plt\n",
        "\n",
        "# Read the CSV file into a DataFrame\n",
        "df = pd.read_csv(\"fdb_more_properties.csv\")\n",
        "\n",
        "# Assuming \"energy\" is the column you want to plot\n",
        "energy_values = df[\"energy\"]\n",
        "\n",
        "# Plot the data\n",
        "plt.figure(figsize=(10, 6))  # Set the size of the figure\n",
        "plt.plot(energy_values, color='blue', marker='o', linestyle='-')  # Plot energy values\n",
        "plt.title(\"Energy Distribution\")  # Set the title of the plot\n",
        "plt.xlabel(\"Index\")  # Set the label for the x-axis\n",
        "plt.ylabel(\"Energy\")  # Set the label for the y-axis\n",
        "plt.ylim(0, 3000)  # Set the y-axis limits\n",
        "plt.grid(True)  # Add gridlines to the plot\n",
        "plt.show()  # Show the plot\n"
      ],
      "metadata": {
        "id": "AYBoI2uF2sM4"
      },
      "execution_count": null,
      "outputs": []
    },
    {
      "cell_type": "code",
      "source": [
        "import dash\n",
        "from dash import dcc, html\n",
        "from dash.dependencies import Input, Output\n",
        "import plotly.graph_objs as go\n",
        "import pandas as pd\n",
        "import matplotlib.pyplot as plt\n",
        "import seaborn as sns\n",
        "\n",
        "# Read the CSV file\n",
        "df = pd.read_csv(\"fdb_more_properties.csv\")\n",
        "\n",
        "# Initialize the Dash app\n",
        "app = dash.Dash(__name__)\n",
        "\n",
        "# Define the layout of the app\n",
        "app.layout = html.Div([\n",
        "    html.H1(\"Energy Distribution\"),\n",
        "    dcc.Dropdown(\n",
        "        id='chart-type',\n",
        "        options=[\n",
        "            {'label': 'Histogram', 'value': 'histogram'},\n",
        "            {'label': 'Violin Plot', 'value': 'violin'}\n",
        "        ],\n",
        "        value='histogram'\n",
        "    ),\n",
        "    dcc.Graph(id='chart')\n",
        "])\n",
        "\n",
        "# Define callback to update the graph based on dropdown selection\n",
        "@app.callback(\n",
        "    Output('chart', 'figure'),\n",
        "    [Input('chart-type', 'value')]\n",
        ")\n",
        "def update_chart(chart_type):\n",
        "    threshold = 300  # Adjust as needed based on your data\n",
        "    # Filter out outliers\n",
        "    df_filtered = df[df['energy'] < threshold]\n",
        "    # Add a dummy category column\n",
        "    df_filtered['category'] = 'All Dishes'\n",
        "\n",
        "    if chart_type == 'histogram':\n",
        "        # Plot the histogram\n",
        "        trace = go.Histogram(x=df_filtered['energy'], nbinsx=30, marker_color='blue', opacity=0.7)\n",
        "        layout = go.Layout(title='Energy Distribution', xaxis=dict(title='Energy'), yaxis=dict(title='Frequency'))\n",
        "    else:\n",
        "        # Plot the violin plot\n",
        "        trace = go.Violin(y=df_filtered['energy'], box_visible=True, line_color='blue', meanline_visible=True, fillcolor='lightblue')\n",
        "        layout = go.Layout(title='Energy Distribution', yaxis=dict(title='Energy'))\n",
        "\n",
        "    return {'data': [trace], 'layout': layout}\n",
        "\n",
        "# Run the app\n",
        "if __name__ == '__main__':\n",
        "    app.run_server(debug=True)\n"
      ],
      "metadata": {
        "id": "VRWfyAhK2wgr"
      },
      "execution_count": null,
      "outputs": []
    },
    {
      "cell_type": "markdown",
      "source": [
        "## Receptors"
      ],
      "metadata": {
        "id": "lwQCkg6tBsT1"
      }
    },
    {
      "cell_type": "code",
      "source": [
        "import pandas as pd\n",
        "import plotly.express as px\n",
        "\n",
        "# Assuming 'receptor_name' column contains the receptors\n",
        "# Replace 'file_path.csv' with the actual path to your CSV file\n",
        "df = pd.read_csv('fdb_receptors.csv')\n",
        "df = df.dropna(subset=['receptor_name'])\n",
        "\n",
        "# Define categories based on common prefixes\n",
        "categories = {\n",
        "    'mGluR': ['mGluR4', 'mGluR1'],\n",
        "    'TAS2R': ['TAS2R1', 'TAS2R3', 'TAS2R4', 'TAS2R5', 'TAS2R7', 'TAS2R8', 'TAS2R9', 'TAS2R10',\n",
        "              'TAS2R13', 'TAS2R14', 'TAS2R16', 'TAS2R19', 'TAS2R20', 'TAS2R30', 'TAS2R31',\n",
        "              'TAS2R38', 'TAS2R39', 'TAS2R40', 'TAS2R41', 'TAS2R42', 'TAS2R43', 'TAS2R45',\n",
        "              'TAS2R46', 'TAS2R50', 'TAS2R60'],\n",
        "    'TAS1R': ['TAS1R1', 'TAS1R2', 'TAS1R3'],\n",
        "    'PKD2L1': ['PKD2L1'],\n",
        "    'HCN': ['HCN1', 'HCN4'],\n",
        "    'OR': [col for col in df['receptor_name'] if col.startswith('OR')],\n",
        "    'CNGA': ['CNGA2', 'CNCA', 'CNCA1', 'CNCG2'],\n",
        "    'GNAL': ['GNAL'],\n",
        "    'GFY': ['GFY'],\n",
        "    'VN1R': ['VN1R1', 'V1RL1', 'VNR19I1']\n",
        "}\n",
        "\n",
        "# Count the number of receptors in each category\n",
        "category_counts = {category: sum(receptor in category_receptors for receptor in df['receptor_name'])\n",
        "                  for category, category_receptors in categories.items()}\n",
        "\n",
        "# Calculate percentages\n",
        "\n",
        "\n",
        "# Calculate percentages\n",
        "total_receptors = sum(category_counts.values())\n",
        "percentages = {category: count / total_receptors * 100 for category, count in category_counts.items()}\n",
        "\n",
        "# Create a DataFrame for Plotly\n",
        "data = pd.DataFrame({'Category': list(category_counts.keys()), 'Count': list(category_counts.values()), 'Percentage': list(percentages.values())})\n",
        "\n",
        "# Create a Plotly bar plot\n",
        "fig = px.bar(data, x='Category', y='Count', hover_data={'Percentage': ':.2f%'}, color='Count',\n",
        "             labels={'Count': 'Count', 'Category': 'Receptor Categories', 'Percentage': 'Percentage'},\n",
        "             title='Distribution of Receptor Categories')\n",
        "\n",
        "# Update hover template to include category names on X-axis\n",
        "fig.update_traces(hovertemplate='<b>%{x}</b><br>Count: %{y}<br>')\n",
        "\n",
        "# Show the plot\n",
        "fig.show()"
      ],
      "metadata": {
        "id": "C7Eo8T4n22F-"
      },
      "execution_count": null,
      "outputs": []
    },
    {
      "cell_type": "markdown",
      "source": [
        "## Entities"
      ],
      "metadata": {
        "id": "CJYEZjdGBwJY"
      }
    },
    {
      "cell_type": "code",
      "source": [
        "import dash\n",
        "from dash import dcc, html\n",
        "from dash.dependencies import Input, Output\n",
        "import plotly.graph_objs as go\n",
        "import pandas as pd\n",
        "import plotly.express as px\n",
        "\n",
        "# Read the CSV file\n",
        "df = pd.read_csv(\"fdb_entities.csv\")\n",
        "\n",
        "# Get the top 20 entities from the 'entity_alias' column\n",
        "top_entities = df['entity_alias'].value_counts().head(20).index.tolist()\n",
        "\n",
        "# Filter the dataframe based on the top 20 entities\n",
        "df_top_entities = df[df['entity_alias'].isin(top_entities)]\n",
        "\n",
        "# Initialize the Dash app\n",
        "app = dash.Dash(__name__)\n",
        "\n",
        "# Define the layout of the app\n",
        "app.layout = html.Div([\n",
        "    html.H1(\"Visualization of Top 20 Entities\"),\n",
        "    dcc.Dropdown(\n",
        "        id='chart-type',\n",
        "        options=[\n",
        "            {'label': 'Bar Chart', 'value': 'bar'},\n",
        "            {'label': 'Pie Chart', 'value': 'pie'},\n",
        "            {'label': 'Histogram', 'value': 'histogram'},\n",
        "            {'label': 'Box Plot', 'value': 'box'},\n",
        "            {'label': 'Treemap', 'value': 'treemap'}\n",
        "        ],\n",
        "        value='bar'\n",
        "    ),\n",
        "    dcc.Graph(id='chart')\n",
        "])\n",
        "\n",
        "# Define callback to update the graph based on dropdown selection\n",
        "@app.callback(\n",
        "    Output('chart', 'figure'),\n",
        "    [Input('chart-type', 'value')]\n",
        ")\n",
        "def update_chart(chart_type):\n",
        "    if chart_type == 'bar':\n",
        "        top_entities_count = df_top_entities['entity_alias'].value_counts().head(20)\n",
        "        trace = go.Bar(x=top_entities_count.index, y=top_entities_count.values)\n",
        "        layout = go.Layout(title='Top 20 Entity Distribution - Bar Chart')\n",
        "    elif chart_type == 'histogram':\n",
        "        trace = go.Histogram(x=df_top_entities['entity_alias'])\n",
        "        layout = go.Layout(title='Top 20 Entity Distribution - Histogram')\n",
        "    elif chart_type == 'box':\n",
        "        fig_box_entity = px.box(df_top_entities, x='entity_alias', title='Box Plot of Top 20 Entities')\n",
        "        return fig_box_entity\n",
        "    elif chart_type == 'treemap':\n",
        "        fig_treemap = px.treemap(df_top_entities, path=['entity_alias'], title='Treemap of Top 20 Entities')\n",
        "        return fig_treemap\n",
        "    else:\n",
        "        pie_data = df_top_entities['entity_alias'].value_counts().head(20)\n",
        "        trace = go.Pie(labels=pie_data.index, values=pie_data.values)\n",
        "        layout = go.Layout(title='Top 20 Entity Distribution - Pie Chart')\n",
        "\n",
        "    return {'data': [trace], 'layout': layout}\n",
        "\n",
        "# Run the app\n",
        "if __name__ == '__main__':\n",
        "    app.run_server(debug=True)\n"
      ],
      "metadata": {
        "colab": {
          "base_uri": "https://localhost:8080/",
          "height": 672
        },
        "id": "WnswMl5x3H1L",
        "outputId": "79e7651f-eaa0-4f20-cde9-b6be455a8439"
      },
      "execution_count": null,
      "outputs": [
        {
          "output_type": "display_data",
          "data": {
            "text/plain": [
              "<IPython.core.display.Javascript object>"
            ],
            "application/javascript": [
              "(async (port, path, width, height, cache, element) => {\n",
              "    if (!google.colab.kernel.accessAllowed && !cache) {\n",
              "      return;\n",
              "    }\n",
              "    element.appendChild(document.createTextNode(''));\n",
              "    const url = await google.colab.kernel.proxyPort(port, {cache});\n",
              "    const iframe = document.createElement('iframe');\n",
              "    iframe.src = new URL(path, url).toString();\n",
              "    iframe.height = height;\n",
              "    iframe.width = width;\n",
              "    iframe.style.border = 0;\n",
              "    iframe.allow = [\n",
              "        'accelerometer',\n",
              "        'autoplay',\n",
              "        'camera',\n",
              "        'clipboard-read',\n",
              "        'clipboard-write',\n",
              "        'gyroscope',\n",
              "        'magnetometer',\n",
              "        'microphone',\n",
              "        'serial',\n",
              "        'usb',\n",
              "        'xr-spatial-tracking',\n",
              "    ].join('; ');\n",
              "    element.appendChild(iframe);\n",
              "  })(8050, \"/\", \"100%\", 650, false, window.element)"
            ]
          },
          "metadata": {}
        }
      ]
    },
    {
      "cell_type": "markdown",
      "source": [
        "## Categories"
      ],
      "metadata": {
        "id": "zHnSinXTBzvd"
      }
    },
    {
      "cell_type": "code",
      "source": [
        "import dash\n",
        "from dash import dcc, html\n",
        "from dash.dependencies import Input, Output\n",
        "import plotly.graph_objs as go\n",
        "import pandas as pd\n",
        "import plotly.express as px\n",
        "\n",
        "# Read the CSV file\n",
        "df = pd.read_csv(\"fdb_entities.csv\")\n",
        "\n",
        "# Get the top 20 categories from the 'category_readable' column\n",
        "top_categories = df['category_readable'].value_counts().head(20).index.tolist()\n",
        "\n",
        "# Filter the dataframe based on the top 20 categories\n",
        "df_top_categories = df[df['category_readable'].isin(top_categories)]\n",
        "\n",
        "# Initialize the Dash app\n",
        "app = dash.Dash(__name__)\n",
        "\n",
        "# Define the layout of the app\n",
        "app.layout = html.Div([\n",
        "    html.H1(\"Visualization of Top 20 Category\"),\n",
        "    dcc.Dropdown(\n",
        "        id='chart-type',\n",
        "        options=[\n",
        "            {'label': 'Bar Chart', 'value': 'bar'},\n",
        "            {'label': 'Pie Chart', 'value': 'pie'},\n",
        "            {'label': 'Histogram', 'value': 'histogram'},\n",
        "            {'label': 'Box Plot', 'value': 'box'},\n",
        "            {'label': 'Treemap', 'value': 'treemap'}\n",
        "        ],\n",
        "        value='bar'\n",
        "    ),\n",
        "    dcc.Graph(id='chart')\n",
        "])\n",
        "\n",
        "# Define callback to update the graph based on dropdown selection\n",
        "@app.callback(\n",
        "    Output('chart', 'figure'),\n",
        "    [Input('chart-type', 'value')]\n",
        ")\n",
        "def update_chart(chart_type):\n",
        "    if chart_type == 'bar':\n",
        "        top_categories_count = df_top_categories['category_readable'].value_counts().head(20)\n",
        "        trace = go.Bar(x=top_categories_count.index, y=top_categories_count.values)\n",
        "        layout = go.Layout(title='Top 20 Category Distribution - Bar Chart')\n",
        "    elif chart_type == 'histogram':\n",
        "        trace = go.Histogram(x=df_top_categories['category_readable'])\n",
        "        layout = go.Layout(title='Top 20 Category Distribution - Histogram')\n",
        "    elif chart_type == 'box':\n",
        "        fig_box_category = px.box(df_top_categories, x='category_readable', title='Box Plot of Top 20 Category Readable')\n",
        "        return fig_box_category\n",
        "    elif chart_type == 'treemap':\n",
        "        fig_treemap = px.treemap(df_top_categories, path=['category_readable'], title='Treemap of Top 20 Categories')\n",
        "        return fig_treemap\n",
        "    else:\n",
        "        pie_data = df_top_categories['category_readable'].value_counts().head(20)\n",
        "        trace = go.Pie(labels=pie_data.index, values=pie_data.values)\n",
        "        layout = go.Layout(title='Top 20 Category Distribution - Pie Chart')\n",
        "\n",
        "    return {'data': [trace], 'layout': layout}\n",
        "\n",
        "# Run the app\n",
        "if __name__ == '__main__':\n",
        "    app.run_server(debug=True)\n"
      ],
      "metadata": {
        "colab": {
          "base_uri": "https://localhost:8080/",
          "height": 672
        },
        "id": "zp_ooiSZ17K3",
        "outputId": "e70423db-0838-4216-fd05-302d13ffac84"
      },
      "execution_count": null,
      "outputs": [
        {
          "output_type": "display_data",
          "data": {
            "text/plain": [
              "<IPython.core.display.Javascript object>"
            ],
            "application/javascript": [
              "(async (port, path, width, height, cache, element) => {\n",
              "    if (!google.colab.kernel.accessAllowed && !cache) {\n",
              "      return;\n",
              "    }\n",
              "    element.appendChild(document.createTextNode(''));\n",
              "    const url = await google.colab.kernel.proxyPort(port, {cache});\n",
              "    const iframe = document.createElement('iframe');\n",
              "    iframe.src = new URL(path, url).toString();\n",
              "    iframe.height = height;\n",
              "    iframe.width = width;\n",
              "    iframe.style.border = 0;\n",
              "    iframe.allow = [\n",
              "        'accelerometer',\n",
              "        'autoplay',\n",
              "        'camera',\n",
              "        'clipboard-read',\n",
              "        'clipboard-write',\n",
              "        'gyroscope',\n",
              "        'magnetometer',\n",
              "        'microphone',\n",
              "        'serial',\n",
              "        'usb',\n",
              "        'xr-spatial-tracking',\n",
              "    ].join('; ');\n",
              "    element.appendChild(iframe);\n",
              "  })(8050, \"/\", \"100%\", 650, false, window.element)"
            ]
          },
          "metadata": {}
        }
      ]
    },
    {
      "cell_type": "markdown",
      "source": [
        "## Natural Source"
      ],
      "metadata": {
        "id": "mQYOD7lsB3x2"
      }
    },
    {
      "cell_type": "code",
      "source": [
        "import dash\n",
        "from dash import dcc, html\n",
        "from dash.dependencies import Input, Output\n",
        "import plotly.graph_objs as go\n",
        "import pandas as pd\n",
        "import plotly.express as px\n",
        "\n",
        "# Read the CSV file\n",
        "df = pd.read_csv(\"fdb_entities.csv\")\n",
        "\n",
        "# Get the top 20 natural sources from the 'natural_source_name' column\n",
        "top_sources = df['natural_source_name'].value_counts().head(20).index.tolist()\n",
        "\n",
        "# Filter the dataframe based on the top 20 natural sources\n",
        "df_top_sources = df[df['natural_source_name'].isin(top_sources)]\n",
        "\n",
        "# Initialize the Dash app\n",
        "app = dash.Dash(__name__)\n",
        "\n",
        "# Define the layout of the app\n",
        "app.layout = html.Div([\n",
        "    html.H1(\"Visualization of Top 20 Natural Sources\"),\n",
        "    dcc.Dropdown(\n",
        "        id='chart-type',\n",
        "        options=[\n",
        "            {'label': 'Bar Chart', 'value': 'bar'},\n",
        "            {'label': 'Pie Chart', 'value': 'pie'},\n",
        "            {'label': 'Histogram', 'value': 'histogram'},\n",
        "            {'label': 'Box Plot', 'value': 'box'},\n",
        "            {'label': 'Treemap', 'value': 'treemap'}\n",
        "        ],\n",
        "        value='bar'\n",
        "    ),\n",
        "    dcc.Graph(id='chart')\n",
        "])\n",
        "\n",
        "# Define callback to update the graph based on dropdown selection\n",
        "@app.callback(\n",
        "    Output('chart', 'figure'),\n",
        "    [Input('chart-type', 'value')]\n",
        ")\n",
        "def update_chart(chart_type):\n",
        "    if chart_type == 'bar':\n",
        "        top_sources_count = df_top_sources['natural_source_name'].value_counts().head(20)\n",
        "        trace = go.Bar(x=top_sources_count.index, y=top_sources_count.values)\n",
        "        layout = go.Layout(title='Top 20 Natural Sources Distribution - Bar Chart')\n",
        "    elif chart_type == 'histogram':\n",
        "        trace = go.Histogram(x=df_top_sources['natural_source_name'])\n",
        "        layout = go.Layout(title='Top 20 Natural Sources Distribution - Histogram')\n",
        "    elif chart_type == 'box':\n",
        "        fig_box_source = px.box(df_top_sources, x='natural_source_name', title='Box Plot of Top 20 Natural Sources')\n",
        "        return fig_box_source\n",
        "    elif chart_type == 'treemap':\n",
        "        fig_treemap = px.treemap(df_top_sources, path=['natural_source_name'], title='Treemap of Top 20 Natural Sources')\n",
        "        return fig_treemap\n",
        "    else:\n",
        "        pie_data = df_top_sources['natural_source_name'].value_counts().head(20)\n",
        "        trace = go.Pie(labels=pie_data.index, values=pie_data.values)\n",
        "        layout = go.Layout(title='Top 20 Natural Sources Distribution - Pie Chart')\n",
        "\n",
        "    return {'data': [trace], 'layout': layout}\n",
        "\n",
        "# Run the app\n",
        "if __name__ == '__main__':\n",
        "    app.run_server(debug=True)\n"
      ],
      "metadata": {
        "colab": {
          "base_uri": "https://localhost:8080/",
          "height": 672
        },
        "id": "88BKJTsz3kO4",
        "outputId": "ad8a8613-9e60-4da1-9c60-792417bedb3d"
      },
      "execution_count": null,
      "outputs": [
        {
          "output_type": "display_data",
          "data": {
            "text/plain": [
              "<IPython.core.display.Javascript object>"
            ],
            "application/javascript": [
              "(async (port, path, width, height, cache, element) => {\n",
              "    if (!google.colab.kernel.accessAllowed && !cache) {\n",
              "      return;\n",
              "    }\n",
              "    element.appendChild(document.createTextNode(''));\n",
              "    const url = await google.colab.kernel.proxyPort(port, {cache});\n",
              "    const iframe = document.createElement('iframe');\n",
              "    iframe.src = new URL(path, url).toString();\n",
              "    iframe.height = height;\n",
              "    iframe.width = width;\n",
              "    iframe.style.border = 0;\n",
              "    iframe.allow = [\n",
              "        'accelerometer',\n",
              "        'autoplay',\n",
              "        'camera',\n",
              "        'clipboard-read',\n",
              "        'clipboard-write',\n",
              "        'gyroscope',\n",
              "        'magnetometer',\n",
              "        'microphone',\n",
              "        'serial',\n",
              "        'usb',\n",
              "        'xr-spatial-tracking',\n",
              "    ].join('; ');\n",
              "    element.appendChild(iframe);\n",
              "  })(8050, \"/\", \"100%\", 650, false, window.element)"
            ]
          },
          "metadata": {}
        }
      ]
    },
    {
      "cell_type": "markdown",
      "source": [
        "## Flavor Profile"
      ],
      "metadata": {
        "id": "7nKThgzEB8D_"
      }
    },
    {
      "cell_type": "code",
      "source": [
        "import dash\n",
        "from dash import dcc, html\n",
        "from dash.dependencies import Input, Output\n",
        "import pandas as pd\n",
        "import plotly.express as px\n",
        "\n",
        "# Read the CSV file\n",
        "df = pd.read_csv(\"fdb_molecules.csv\")\n",
        "\n",
        "# Split the flavor_profile column by '@' and explode into separate rows\n",
        "df['flavor_profile'] = df['flavor_profile'].str.split('@')\n",
        "df = df.explode('flavor_profile')\n",
        "\n",
        "# Get the top 15 flavor profiles\n",
        "top_flavor_profiles = df['flavor_profile'].value_counts().head(15)\n",
        "\n",
        "# Initialize the Dash app\n",
        "app = dash.Dash(__name__)\n",
        "\n",
        "# Define the layout of the app\n",
        "app.layout = html.Div([\n",
        "    html.H1(\"Visualization of Flavor Profiles\"),\n",
        "    dcc.Dropdown(\n",
        "        id='chart-type',\n",
        "        options=[\n",
        "            {'label': 'Pie Chart', 'value': 'pie'},\n",
        "            {'label': 'Bar Chart', 'value': 'bar'},\n",
        "            {'label': 'Histogram', 'value': 'histogram'}\n",
        "        ],\n",
        "        value='pie'\n",
        "    ),\n",
        "    dcc.Graph(id='chart')\n",
        "])\n",
        "\n",
        "# Define callback to update the graph based on dropdown selection\n",
        "@app.callback(\n",
        "    Output('chart', 'figure'),\n",
        "    [Input('chart-type', 'value')]\n",
        ")\n",
        "def update_chart(chart_type):\n",
        "    if chart_type == 'pie':\n",
        "        fig = px.pie(names=top_flavor_profiles.index, values=top_flavor_profiles.values, title='Top 15 Flavor Profiles')\n",
        "    elif chart_type == 'bar':\n",
        "        fig = px.bar(x=top_flavor_profiles.index, y=top_flavor_profiles.values, title='Top 15 Flavor Profiles')\n",
        "    else:  # Histogram\n",
        "        fig = px.histogram(x=df['flavor_profile'], title='Flavor Profile Distribution')\n",
        "    return fig\n",
        "\n",
        "# Run the app\n",
        "if __name__ == '__main__':\n",
        "    app.run_server(debug=True)\n"
      ],
      "metadata": {
        "colab": {
          "base_uri": "https://localhost:8080/",
          "height": 672
        },
        "id": "3uZPF_le33-E",
        "outputId": "c0fa1424-4198-4ac2-c1b6-19d2286c9816"
      },
      "execution_count": null,
      "outputs": [
        {
          "output_type": "display_data",
          "data": {
            "text/plain": [
              "<IPython.core.display.Javascript object>"
            ],
            "application/javascript": [
              "(async (port, path, width, height, cache, element) => {\n",
              "    if (!google.colab.kernel.accessAllowed && !cache) {\n",
              "      return;\n",
              "    }\n",
              "    element.appendChild(document.createTextNode(''));\n",
              "    const url = await google.colab.kernel.proxyPort(port, {cache});\n",
              "    const iframe = document.createElement('iframe');\n",
              "    iframe.src = new URL(path, url).toString();\n",
              "    iframe.height = height;\n",
              "    iframe.width = width;\n",
              "    iframe.style.border = 0;\n",
              "    iframe.allow = [\n",
              "        'accelerometer',\n",
              "        'autoplay',\n",
              "        'camera',\n",
              "        'clipboard-read',\n",
              "        'clipboard-write',\n",
              "        'gyroscope',\n",
              "        'magnetometer',\n",
              "        'microphone',\n",
              "        'serial',\n",
              "        'usb',\n",
              "        'xr-spatial-tracking',\n",
              "    ].join('; ');\n",
              "    element.appendChild(iframe);\n",
              "  })(8050, \"/\", \"100%\", 650, false, window.element)"
            ]
          },
          "metadata": {}
        }
      ]
    },
    {
      "cell_type": "code",
      "source": [
        "import dash\n",
        "from dash import dcc, html\n",
        "from dash.dependencies import Input, Output\n",
        "import pandas as pd\n",
        "import plotly.express as px\n",
        "\n",
        "# Read the CSV file\n",
        "df = pd.read_csv(\"fdb_molecules.csv\")\n",
        "\n",
        "# Split the fooddb_flavor_profile column by '@' and explode into separate rows\n",
        "df['fooddb_flavor_profile'] = df['fooddb_flavor_profile'].str.split('@')\n",
        "df = df.explode('fooddb_flavor_profile')\n",
        "\n",
        "# Get the top 15 flavor profiles\n",
        "top_flavor_profiles = df['fooddb_flavor_profile'].value_counts().head(15)\n",
        "\n",
        "# Initialize the Dash app\n",
        "app = dash.Dash(__name__)\n",
        "\n",
        "# Define the layout of the app\n",
        "app.layout = html.Div([\n",
        "    html.H1(\"Visualization of FoodDB Flavor Profiles\"),\n",
        "    dcc.Dropdown(\n",
        "        id='chart-type',\n",
        "        options=[\n",
        "            {'label': 'Pie Chart', 'value': 'pie'},\n",
        "            {'label': 'Bar Chart', 'value': 'bar'},\n",
        "            {'label': 'Histogram', 'value': 'histogram'}\n",
        "        ],\n",
        "        value='pie'\n",
        "    ),\n",
        "    dcc.Graph(id='chart')\n",
        "])\n",
        "\n",
        "# Define callback to update the graph based on dropdown selection\n",
        "@app.callback(\n",
        "    Output('chart', 'figure'),\n",
        "    [Input('chart-type', 'value')]\n",
        ")\n",
        "def update_chart(chart_type):\n",
        "    if chart_type == 'pie':\n",
        "        fig = px.pie(names=top_flavor_profiles.index, values=top_flavor_profiles.values, title='Top 15 FoodDB Flavor Profiles')\n",
        "    elif chart_type == 'bar':\n",
        "        fig = px.bar(x=top_flavor_profiles.index, y=top_flavor_profiles.values, title='Top 15 FoodDB Flavor Profiles')\n",
        "    else :\n",
        "        fig = px.histogram(x=df['fooddb_flavor_profile'], title='FoodDB Flavor Profile Distribution')\n",
        "    return fig\n",
        "\n",
        "# Run the app\n",
        "if __name__ == '__main__':\n",
        "    app.run_server(debug=True)\n"
      ],
      "metadata": {
        "colab": {
          "base_uri": "https://localhost:8080/",
          "height": 672
        },
        "id": "StmHEBKy4fGv",
        "outputId": "c4034596-7d7e-4513-993c-13fba8df902c"
      },
      "execution_count": 16,
      "outputs": [
        {
          "output_type": "display_data",
          "data": {
            "text/plain": [
              "<IPython.core.display.Javascript object>"
            ],
            "application/javascript": [
              "(async (port, path, width, height, cache, element) => {\n",
              "    if (!google.colab.kernel.accessAllowed && !cache) {\n",
              "      return;\n",
              "    }\n",
              "    element.appendChild(document.createTextNode(''));\n",
              "    const url = await google.colab.kernel.proxyPort(port, {cache});\n",
              "    const iframe = document.createElement('iframe');\n",
              "    iframe.src = new URL(path, url).toString();\n",
              "    iframe.height = height;\n",
              "    iframe.width = width;\n",
              "    iframe.style.border = 0;\n",
              "    iframe.allow = [\n",
              "        'accelerometer',\n",
              "        'autoplay',\n",
              "        'camera',\n",
              "        'clipboard-read',\n",
              "        'clipboard-write',\n",
              "        'gyroscope',\n",
              "        'magnetometer',\n",
              "        'microphone',\n",
              "        'serial',\n",
              "        'usb',\n",
              "        'xr-spatial-tracking',\n",
              "    ].join('; ');\n",
              "    element.appendChild(iframe);\n",
              "  })(8050, \"/\", \"100%\", 650, false, window.element)"
            ]
          },
          "metadata": {}
        }
      ]
    },
    {
      "cell_type": "markdown",
      "source": [
        "## Sub-Categories"
      ],
      "metadata": {
        "id": "uYXdY9pRCB9W"
      }
    },
    {
      "cell_type": "code",
      "source": [
        "import pandas as pd\n",
        "import plotly.graph_objects as go\n",
        "\n",
        "# Step 1: Load Data\n",
        "data = pd.read_csv('fdb_entities.csv')\n",
        "\n",
        "# Step 2: Data Preparation\n",
        "category_counts = data['category_readable'].value_counts()\n",
        "subcategory_data = {}\n",
        "for category in category_counts.index:\n",
        "    subcategory_counts = data[data['category_readable'] == category]['entity_alias'].value_counts()\n",
        "    subcategory_data[category] = subcategory_counts\n",
        "\n",
        "# Step 3: Create Initial Pie Chart\n",
        "fig = go.Figure()\n",
        "\n",
        "for category in category_counts.index:\n",
        "    fig.add_trace(go.Pie(labels=subcategory_data[category].index,\n",
        "                         values=subcategory_data[category].values,\n",
        "                         name=category,\n",
        "                         visible='legendonly'))  # Initially hide all but first pie chart\n",
        "\n",
        "fig.update_layout(updatemenus=[dict(type='buttons',\n",
        "                                    direction='down',\n",
        "                                    buttons=[dict(label=category,\n",
        "                                                  method='update',\n",
        "                                                  args=[{'visible': [category == trace.name for trace in fig.data]}])\n",
        "                                             for category in category_counts.index])])\n",
        "\n",
        "fig.update_layout(title='Top Categories')\n",
        "\n",
        "# Step 5: Display Interactive Plot\n",
        "fig.show()\n"
      ],
      "metadata": {
        "colab": {
          "base_uri": "https://localhost:8080/",
          "height": 542
        },
        "id": "ApyP_Wrq8at1",
        "outputId": "44333cba-b224-4e19-f69d-d17f7bfae623"
      },
      "execution_count": 18,
      "outputs": [
        {
          "output_type": "display_data",
          "data": {
            "text/html": [
              "<html>\n",
              "<head><meta charset=\"utf-8\" /></head>\n",
              "<body>\n",
              "    <div>            <script src=\"https://cdnjs.cloudflare.com/ajax/libs/mathjax/2.7.5/MathJax.js?config=TeX-AMS-MML_SVG\"></script><script type=\"text/javascript\">if (window.MathJax && window.MathJax.Hub && window.MathJax.Hub.Config) {window.MathJax.Hub.Config({SVG: {font: \"STIX-Web\"}});}</script>                <script type=\"text/javascript\">window.PlotlyConfig = {MathJaxConfig: 'local'};</script>\n",
              "        <script charset=\"utf-8\" src=\"https://cdn.plot.ly/plotly-2.24.1.min.js\"></script>                <div id=\"665a77e9-d3e2-4365-b908-3129e529aece\" class=\"plotly-graph-div\" style=\"height:525px; width:100%;\"></div>            <script type=\"text/javascript\">                                    window.PLOTLYENV=window.PLOTLYENV || {};                                    if (document.getElementById(\"665a77e9-d3e2-4365-b908-3129e529aece\")) {                    Plotly.newPlot(                        \"665a77e9-d3e2-4365-b908-3129e529aece\",                        [{\"labels\":[\"bonito\",\"caviar\",\"codfish\",\"fish\",\"fish-fatty\",\"fish-lean\",\"fish-oil\",\"fish-smoked\",\"salmon\"],\"name\":\"Fish\",\"values\":[1,1,1,1,1,1,1,1,1],\"visible\":\"legendonly\",\"type\":\"pie\"},{\"labels\":[\"orange\",\"papaya\",\"apple\",\"plum-plumcothybrid\",\"passionfruit\",\"passionfruit-yellow\",\"pawpaw\",\"peach\",\"pear\",\"pear-barlett\",\"pear-prickly\",\"pepino\",\"pineapple\",\"plum\",\"pumpkin\",\"apple-sauce\",\"quince\",\"quince-chinese\",\"raisin\",\"roseapple\",\"sapodilla\",\"soursop\",\"spinelessmonkeyorange\",\"starfruit\",\"tamarind\",\"woodapple\",\"pomegranate\",\"waterchestnut\",\"naranjilla\",\"melon-muskmelon\",\"melon\",\"mango\",\"apricot\",\"avocado\",\"babaco\",\"banana\",\"beli\",\"byrsonima-crassifolia\",\"cashewapple\",\"cherimoya\",\"coconut\",\"currant\",\"currant-black\",\"currant-red\",\"currant-white\",\"dates\",\"durian\",\"feijoa\",\"fig\",\"grape\",\"guava\",\"hogplum\",\"jackfruit\",\"kiwi\",\"litchi\",\"loquat\",\"malayapple\",\"garciniaindica\"],\"name\":\"Fruit\",\"values\":[2,2,1,1,1,1,1,1,1,1,1,1,1,1,1,1,1,1,1,1,1,1,1,1,1,1,1,1,1,1,1,1,1,1,1,1,1,1,1,1,1,1,1,1,1,1,1,1,1,1,1,1,1,1,1,1,1,1],\"visible\":\"legendonly\",\"type\":\"pie\"},{\"labels\":[\"frankfurter\"],\"name\":\"Dish\",\"values\":[1],\"visible\":\"legendonly\",\"type\":\"pie\"},{\"labels\":[\"angelica\",\"artemisia\",\"peppermint\",\"thyme\",\"tarragon\",\"spearmint-scotch\",\"spearmint-oil\",\"sage\",\"rosemary\",\"rhubarb\",\"mint\",\"liquorice\",\"lemonbalm\",\"garlic\",\"fenugreek\",\"fennel\",\"dill\",\"cornmint\",\"coriander\",\"chervil\",\"calamus\",\"buckwheat\",\"basil\",\"curryleaf\"],\"name\":\"Herb\",\"values\":[1,1,1,1,1,1,1,1,1,1,1,1,1,1,1,1,1,1,1,1,1,1,1,1],\"visible\":\"legendonly\",\"type\":\"pie\"},{\"labels\":[\"butter\",\"cheese-provolone\",\"cheese-roquefort\",\"cheese-russia\",\"cheese-sheep\",\"cheese-swiss\",\"cheese-tilsit\",\"dairy-products\",\"ghee\",\"milk\",\"milk-fat\",\"milk-goat\",\"milk-powder\",\"milk-sheep\",\"milk-skimmed\",\"yogurt\",\"paneer\",\"cheese-romano\",\"cheese-parmesan\",\"buttermilk\",\"cheese-other\",\"cheese\",\"cheese-blue\",\"cheese-camembert\",\"cheese-cheddar\",\"cheese-comte\",\"cheese-cottage\",\"cheese-cream\",\"cheese-domiati\",\"cheese-emmental\",\"cheese-feta\",\"cheese-goat\",\"cheese-gruyere\",\"cheese-limburger\",\"cheese-mozzarella\",\"cheese-munster\",\"cheese-ricotta\"],\"name\":\"Dairy\",\"values\":[1,1,1,1,1,1,1,1,1,1,1,1,1,1,1,1,1,1,1,1,1,1,1,1,1,1,1,1,1,1,1,1,1,1,1,1,1],\"visible\":\"legendonly\",\"type\":\"pie\"},{\"labels\":[\"beef\",\"beef-processed\",\"chicken\",\"ham\",\"lamb\",\"meat\",\"mutton\",\"pork\",\"sukiyaki\",\"turkey\"],\"name\":\"Meat\",\"values\":[1,1,1,1,1,1,1,1,1,1],\"visible\":\"legendonly\",\"type\":\"pie\"},{\"labels\":[\"allium\",\"alpinia\",\"ceriman\",\"chicory\",\"hops\",\"laurel\",\"myrtle\",\"olive\",\"pine\",\"sassafras\",\"tea\",\"tobacco\",\"watercress\"],\"name\":\"Plant\",\"values\":[1,1,1,1,1,1,1,1,1,1,1,1,1],\"visible\":\"legendonly\",\"type\":\"pie\"},{\"labels\":[\"beer\",\"wine-cider\",\"whisky-japanese\",\"whisky-malt\",\"whisky-scotch\",\"wine\",\"wine-bilberry\",\"wine-botrytized\",\"wine-champagne\",\"arrack\",\"whisky-finnish\",\"wine-port\",\"wine-red\",\"wine-rose\",\"wine-sake\",\"wine-sherry\",\"wine-sparkling\",\"wine-strawberry\",\"wine-plum\",\"whisky-canadian\",\"whisky-bourbon\",\"brandy-cognac\",\"brandy\",\"brandy-anise\",\"brandy-apple\",\"brandy-armagnac\",\"brandy-blackberry\",\"brandy-cherry\",\"brandy-papaya\",\"whisky\",\"brandy-pear\",\"brandy-plum\",\"brandy-raspberry\",\"brandy-weinbrand\",\"gin\",\"rum\",\"wine-white\"],\"name\":\"Beverage Alcoholic\",\"values\":[2,1,1,1,1,1,1,1,1,1,1,1,1,1,1,1,1,1,1,1,1,1,1,1,1,1,1,1,1,1,1,1,1,1,1,1,1],\"visible\":\"legendonly\",\"type\":\"pie\"},{\"labels\":[\"grass\",\"achillea\",\"mandarinorange-peeloil\",\"menthaoil\",\"myrrh\",\"nerolioil\",\"orange\",\"orris\",\"sage-clarysage\",\"sage-redsage\",\"sage-spanishsage\",\"sandalwood\",\"valerian\",\"wattle\",\"yarrow\",\"ylangylang-oil\",\"canola\",\"kenaf\",\"lotus\",\"mastic\",\"lovage\",\"arar\",\"citrus-fruitpeeloil\",\"buchu\",\"cajeput\",\"camphor\",\"cascarilla\",\"cedar\",\"chamomile\",\"citronella-oil\",\"eucalyptusoil\",\"lime\",\"fir\",\"geranium\",\"grapefruit-peeloil\",\"hops-oil\",\"hyacinth\",\"hyssopoil\",\"lemon\",\"kewda\"],\"name\":\"Essential Oil\",\"values\":[3,1,1,1,1,1,1,1,1,1,1,1,1,1,1,1,1,1,1,1,1,1,1,1,1,1,1,1,1,1,1,1,1,1,1,1,1,1,1,1],\"visible\":\"legendonly\",\"type\":\"pie\"},{\"labels\":[\"seabuckthorn\",\"cloudberry\",\"strawberry\",\"raspberry\",\"loganberry\",\"lingonberry\",\"gooseberry\",\"cranberry\",\"cherry-sweet\",\"berry\",\"cherry-morello\",\"cherry-choke\",\"cherry\",\"blueberry\",\"blackberry\",\"bilberry\",\"strawberry-jam\"],\"name\":\"Berry\",\"values\":[1,1,1,1,1,1,1,1,1,1,1,1,1,1,1,1,1],\"visible\":\"legendonly\",\"type\":\"pie\"},{\"labels\":[\"clam\",\"crab\",\"crayfish\",\"kelp\",\"krill\",\"lobster\",\"mollusc\",\"oyster\",\"prawn\",\"scallop\",\"shellfish\",\"shrimp\",\"shrimp-pastedried\",\"squid\"],\"name\":\"Seafood\",\"values\":[1,1,1,1,1,1,1,1,1,1,1,1,1,1],\"visible\":\"legendonly\",\"type\":\"pie\"},{\"labels\":[\"bakery\",\"bread\",\"bread-rye\",\"bread-wheaten\",\"bread-white\",\"bread-wholewheat\",\"potato-fried\"],\"name\":\"Bakery\",\"values\":[1,1,1,1,1,1,1],\"visible\":\"legendonly\",\"type\":\"pie\"},{\"labels\":[\"anise\",\"nutmeg\",\"poppy\",\"jalapeno\",\"caromseed\",\"asafoetida\",\"allspice\",\"turmeric\",\"saffron\",\"pepper\",\"parsley\",\"oregano\",\"marjoram\",\"anise-hyssop\",\"mace\",\"ginger\",\"cumin\",\"clove\",\"cinnamon\",\"celery\",\"cassia\",\"cardamom\",\"caraway\",\"anise-staranise\",\"pepper-whitepepper\"],\"name\":\"Spice\",\"values\":[1,1,1,1,1,1,1,1,1,1,1,1,1,1,1,1,1,1,1,1,1,1,1,1,1],\"visible\":\"legendonly\",\"type\":\"pie\"},{\"labels\":[],\"name\":\"Additive\",\"values\":[],\"visible\":\"legendonly\",\"type\":\"pie\"},{\"labels\":[\"beans-greenbeans\",\"chive\",\"endive\",\"leek\",\"lettuce\",\"okra\",\"onion\",\"onionshallow\",\"chard\",\"colocasia\",\"drumstick\",\"eggplant\",\"spinach\"],\"name\":\"Vegetable\",\"values\":[1,1,1,1,1,1,1,1,1,1,1,1,1],\"visible\":\"legendonly\",\"type\":\"pie\"},{\"labels\":[\"barley\",\"crispbread\",\"malt\",\"oats\",\"rice\",\"ryeflour\",\"ricebasmati\"],\"name\":\"Cereal\",\"values\":[1,1,1,1,1,1,1],\"visible\":\"legendonly\",\"type\":\"pie\"},{\"labels\":[\"beans\",\"beans-limabeans\",\"beans-redkidneybeans\",\"peas\",\"soybean\",\"soybean-oil\",\"pigeonpea\"],\"name\":\"Legume\",\"values\":[2,1,1,1,1,1,1],\"visible\":\"legendonly\",\"type\":\"pie\"},{\"labels\":[\"almond\",\"brazilnut\",\"peanut\",\"filbert\",\"hazelnut\",\"macadamianut\",\"nuts\",\"pecans\",\"walnut\"],\"name\":\"Nut\",\"values\":[1,1,1,1,1,1,1,1,1],\"visible\":\"legendonly\",\"type\":\"pie\"},{\"labels\":[\"soybean-sauce\",\"tea-fermented\",\"creosote\",\"honey\",\"macaroni\",\"mustard\",\"peanut\",\"peanut-peanutoil\",\"storax\",\"vinegar\",\"vinegar-cidervinegar\"],\"name\":\"Plant Derivative\",\"values\":[1,1,1,1,1,1,1,1,1,1,1],\"visible\":\"legendonly\",\"type\":\"pie\"},{\"labels\":[\"broccoli\",\"brusselssprout\",\"cabbage\",\"cauliflower\",\"horseradish\",\"mustard\",\"turnip-kohlrabi\",\"wasabi\"],\"name\":\"Cabbage\",\"values\":[1,1,1,1,1,1,1,1],\"visible\":\"legendonly\",\"type\":\"pie\"},{\"labels\":[\"wort\"],\"name\":\"Beverage\",\"values\":[1],\"visible\":\"legendonly\",\"type\":\"pie\"},{\"labels\":[\"mushroom\",\"truffle\"],\"name\":\"Fungus\",\"values\":[1,1],\"visible\":\"legendonly\",\"type\":\"pie\"},{\"labels\":[\"bergamot\",\"citrus\",\"grapefruit\",\"kumquat\",\"lemon\",\"lime\",\"mandarinorange\",\"satsumamandarin\",\"tangerine\"],\"name\":\"Fruit Citrus\",\"values\":[1,1,1,1,1,1,1,1,1],\"visible\":\"legendonly\",\"type\":\"pie\"},{\"labels\":[\"cassava\",\"potato\"],\"name\":\"Vegetable Tuber\",\"values\":[1,1],\"visible\":\"legendonly\",\"type\":\"pie\"},{\"labels\":[\"artichoke\",\"champaca\",\"jasmine\",\"lavendar\",\"rose\"],\"name\":\"Flower\",\"values\":[1,1,1,1,1],\"visible\":\"legendonly\",\"type\":\"pie\"},{\"labels\":[\"radish\",\"turnip\",\"turnip-rutabaga\",\"beetroot\",\"carrot\",\"parsnip\",\"sweetpotato\"],\"name\":\"Vegetable Root\",\"values\":[1,1,1,1,1,1,1],\"visible\":\"legendonly\",\"type\":\"pie\"},{\"labels\":[\"gourd\",\"cucumber\",\"ashgourd\",\"bittergourd\",\"bottlegourd\"],\"name\":\"Gourd\",\"values\":[1,1,1,1,1],\"visible\":\"legendonly\",\"type\":\"pie\"},{\"labels\":[\"coffee\",\"mate\",\"tea-black\",\"tea-green\",\"tea-rooibos\"],\"name\":\"Beverage Caffeinated\",\"values\":[1,1,1,1,1],\"visible\":\"legendonly\",\"type\":\"pie\"},{\"labels\":[\"corn\",\"corn-oil\",\"corn-popcorn\",\"corn-sweetcorn\"],\"name\":\"Maize\",\"values\":[1,1,1,1],\"visible\":\"legendonly\",\"type\":\"pie\"},{\"labels\":[\"cocoa\",\"muskmallow\",\"sesame\",\"flaxseed\",\"nigella\"],\"name\":\"Seed\",\"values\":[1,1,1,1,1],\"visible\":\"legendonly\",\"type\":\"pie\"},{\"labels\":[\"capsicum\",\"pimiento\",\"tomato\",\"turkeyberry\"],\"name\":\"Vegetable Fruit\",\"values\":[1,1,1,1],\"visible\":\"legendonly\",\"type\":\"pie\"},{\"labels\":[\"vanilla\"],\"name\":\"Fruit Essence\",\"values\":[1],\"visible\":\"legendonly\",\"type\":\"pie\"},{\"labels\":[\"elderberry\"],\"name\":\"Fruit-Berry\",\"values\":[1],\"visible\":\"legendonly\",\"type\":\"pie\"},{\"labels\":[\"asparagus\"],\"name\":\"Vegetable Stem\",\"values\":[1],\"visible\":\"legendonly\",\"type\":\"pie\"},{\"labels\":[\"egg\"],\"name\":\"Animal Product\",\"values\":[1],\"visible\":\"legendonly\",\"type\":\"pie\"}],                        {\"template\":{\"data\":{\"histogram2dcontour\":[{\"type\":\"histogram2dcontour\",\"colorbar\":{\"outlinewidth\":0,\"ticks\":\"\"},\"colorscale\":[[0.0,\"#0d0887\"],[0.1111111111111111,\"#46039f\"],[0.2222222222222222,\"#7201a8\"],[0.3333333333333333,\"#9c179e\"],[0.4444444444444444,\"#bd3786\"],[0.5555555555555556,\"#d8576b\"],[0.6666666666666666,\"#ed7953\"],[0.7777777777777778,\"#fb9f3a\"],[0.8888888888888888,\"#fdca26\"],[1.0,\"#f0f921\"]]}],\"choropleth\":[{\"type\":\"choropleth\",\"colorbar\":{\"outlinewidth\":0,\"ticks\":\"\"}}],\"histogram2d\":[{\"type\":\"histogram2d\",\"colorbar\":{\"outlinewidth\":0,\"ticks\":\"\"},\"colorscale\":[[0.0,\"#0d0887\"],[0.1111111111111111,\"#46039f\"],[0.2222222222222222,\"#7201a8\"],[0.3333333333333333,\"#9c179e\"],[0.4444444444444444,\"#bd3786\"],[0.5555555555555556,\"#d8576b\"],[0.6666666666666666,\"#ed7953\"],[0.7777777777777778,\"#fb9f3a\"],[0.8888888888888888,\"#fdca26\"],[1.0,\"#f0f921\"]]}],\"heatmap\":[{\"type\":\"heatmap\",\"colorbar\":{\"outlinewidth\":0,\"ticks\":\"\"},\"colorscale\":[[0.0,\"#0d0887\"],[0.1111111111111111,\"#46039f\"],[0.2222222222222222,\"#7201a8\"],[0.3333333333333333,\"#9c179e\"],[0.4444444444444444,\"#bd3786\"],[0.5555555555555556,\"#d8576b\"],[0.6666666666666666,\"#ed7953\"],[0.7777777777777778,\"#fb9f3a\"],[0.8888888888888888,\"#fdca26\"],[1.0,\"#f0f921\"]]}],\"heatmapgl\":[{\"type\":\"heatmapgl\",\"colorbar\":{\"outlinewidth\":0,\"ticks\":\"\"},\"colorscale\":[[0.0,\"#0d0887\"],[0.1111111111111111,\"#46039f\"],[0.2222222222222222,\"#7201a8\"],[0.3333333333333333,\"#9c179e\"],[0.4444444444444444,\"#bd3786\"],[0.5555555555555556,\"#d8576b\"],[0.6666666666666666,\"#ed7953\"],[0.7777777777777778,\"#fb9f3a\"],[0.8888888888888888,\"#fdca26\"],[1.0,\"#f0f921\"]]}],\"contourcarpet\":[{\"type\":\"contourcarpet\",\"colorbar\":{\"outlinewidth\":0,\"ticks\":\"\"}}],\"contour\":[{\"type\":\"contour\",\"colorbar\":{\"outlinewidth\":0,\"ticks\":\"\"},\"colorscale\":[[0.0,\"#0d0887\"],[0.1111111111111111,\"#46039f\"],[0.2222222222222222,\"#7201a8\"],[0.3333333333333333,\"#9c179e\"],[0.4444444444444444,\"#bd3786\"],[0.5555555555555556,\"#d8576b\"],[0.6666666666666666,\"#ed7953\"],[0.7777777777777778,\"#fb9f3a\"],[0.8888888888888888,\"#fdca26\"],[1.0,\"#f0f921\"]]}],\"surface\":[{\"type\":\"surface\",\"colorbar\":{\"outlinewidth\":0,\"ticks\":\"\"},\"colorscale\":[[0.0,\"#0d0887\"],[0.1111111111111111,\"#46039f\"],[0.2222222222222222,\"#7201a8\"],[0.3333333333333333,\"#9c179e\"],[0.4444444444444444,\"#bd3786\"],[0.5555555555555556,\"#d8576b\"],[0.6666666666666666,\"#ed7953\"],[0.7777777777777778,\"#fb9f3a\"],[0.8888888888888888,\"#fdca26\"],[1.0,\"#f0f921\"]]}],\"mesh3d\":[{\"type\":\"mesh3d\",\"colorbar\":{\"outlinewidth\":0,\"ticks\":\"\"}}],\"scatter\":[{\"fillpattern\":{\"fillmode\":\"overlay\",\"size\":10,\"solidity\":0.2},\"type\":\"scatter\"}],\"parcoords\":[{\"type\":\"parcoords\",\"line\":{\"colorbar\":{\"outlinewidth\":0,\"ticks\":\"\"}}}],\"scatterpolargl\":[{\"type\":\"scatterpolargl\",\"marker\":{\"colorbar\":{\"outlinewidth\":0,\"ticks\":\"\"}}}],\"bar\":[{\"error_x\":{\"color\":\"#2a3f5f\"},\"error_y\":{\"color\":\"#2a3f5f\"},\"marker\":{\"line\":{\"color\":\"#E5ECF6\",\"width\":0.5},\"pattern\":{\"fillmode\":\"overlay\",\"size\":10,\"solidity\":0.2}},\"type\":\"bar\"}],\"scattergeo\":[{\"type\":\"scattergeo\",\"marker\":{\"colorbar\":{\"outlinewidth\":0,\"ticks\":\"\"}}}],\"scatterpolar\":[{\"type\":\"scatterpolar\",\"marker\":{\"colorbar\":{\"outlinewidth\":0,\"ticks\":\"\"}}}],\"histogram\":[{\"marker\":{\"pattern\":{\"fillmode\":\"overlay\",\"size\":10,\"solidity\":0.2}},\"type\":\"histogram\"}],\"scattergl\":[{\"type\":\"scattergl\",\"marker\":{\"colorbar\":{\"outlinewidth\":0,\"ticks\":\"\"}}}],\"scatter3d\":[{\"type\":\"scatter3d\",\"line\":{\"colorbar\":{\"outlinewidth\":0,\"ticks\":\"\"}},\"marker\":{\"colorbar\":{\"outlinewidth\":0,\"ticks\":\"\"}}}],\"scattermapbox\":[{\"type\":\"scattermapbox\",\"marker\":{\"colorbar\":{\"outlinewidth\":0,\"ticks\":\"\"}}}],\"scatterternary\":[{\"type\":\"scatterternary\",\"marker\":{\"colorbar\":{\"outlinewidth\":0,\"ticks\":\"\"}}}],\"scattercarpet\":[{\"type\":\"scattercarpet\",\"marker\":{\"colorbar\":{\"outlinewidth\":0,\"ticks\":\"\"}}}],\"carpet\":[{\"aaxis\":{\"endlinecolor\":\"#2a3f5f\",\"gridcolor\":\"white\",\"linecolor\":\"white\",\"minorgridcolor\":\"white\",\"startlinecolor\":\"#2a3f5f\"},\"baxis\":{\"endlinecolor\":\"#2a3f5f\",\"gridcolor\":\"white\",\"linecolor\":\"white\",\"minorgridcolor\":\"white\",\"startlinecolor\":\"#2a3f5f\"},\"type\":\"carpet\"}],\"table\":[{\"cells\":{\"fill\":{\"color\":\"#EBF0F8\"},\"line\":{\"color\":\"white\"}},\"header\":{\"fill\":{\"color\":\"#C8D4E3\"},\"line\":{\"color\":\"white\"}},\"type\":\"table\"}],\"barpolar\":[{\"marker\":{\"line\":{\"color\":\"#E5ECF6\",\"width\":0.5},\"pattern\":{\"fillmode\":\"overlay\",\"size\":10,\"solidity\":0.2}},\"type\":\"barpolar\"}],\"pie\":[{\"automargin\":true,\"type\":\"pie\"}]},\"layout\":{\"autotypenumbers\":\"strict\",\"colorway\":[\"#636efa\",\"#EF553B\",\"#00cc96\",\"#ab63fa\",\"#FFA15A\",\"#19d3f3\",\"#FF6692\",\"#B6E880\",\"#FF97FF\",\"#FECB52\"],\"font\":{\"color\":\"#2a3f5f\"},\"hovermode\":\"closest\",\"hoverlabel\":{\"align\":\"left\"},\"paper_bgcolor\":\"white\",\"plot_bgcolor\":\"#E5ECF6\",\"polar\":{\"bgcolor\":\"#E5ECF6\",\"angularaxis\":{\"gridcolor\":\"white\",\"linecolor\":\"white\",\"ticks\":\"\"},\"radialaxis\":{\"gridcolor\":\"white\",\"linecolor\":\"white\",\"ticks\":\"\"}},\"ternary\":{\"bgcolor\":\"#E5ECF6\",\"aaxis\":{\"gridcolor\":\"white\",\"linecolor\":\"white\",\"ticks\":\"\"},\"baxis\":{\"gridcolor\":\"white\",\"linecolor\":\"white\",\"ticks\":\"\"},\"caxis\":{\"gridcolor\":\"white\",\"linecolor\":\"white\",\"ticks\":\"\"}},\"coloraxis\":{\"colorbar\":{\"outlinewidth\":0,\"ticks\":\"\"}},\"colorscale\":{\"sequential\":[[0.0,\"#0d0887\"],[0.1111111111111111,\"#46039f\"],[0.2222222222222222,\"#7201a8\"],[0.3333333333333333,\"#9c179e\"],[0.4444444444444444,\"#bd3786\"],[0.5555555555555556,\"#d8576b\"],[0.6666666666666666,\"#ed7953\"],[0.7777777777777778,\"#fb9f3a\"],[0.8888888888888888,\"#fdca26\"],[1.0,\"#f0f921\"]],\"sequentialminus\":[[0.0,\"#0d0887\"],[0.1111111111111111,\"#46039f\"],[0.2222222222222222,\"#7201a8\"],[0.3333333333333333,\"#9c179e\"],[0.4444444444444444,\"#bd3786\"],[0.5555555555555556,\"#d8576b\"],[0.6666666666666666,\"#ed7953\"],[0.7777777777777778,\"#fb9f3a\"],[0.8888888888888888,\"#fdca26\"],[1.0,\"#f0f921\"]],\"diverging\":[[0,\"#8e0152\"],[0.1,\"#c51b7d\"],[0.2,\"#de77ae\"],[0.3,\"#f1b6da\"],[0.4,\"#fde0ef\"],[0.5,\"#f7f7f7\"],[0.6,\"#e6f5d0\"],[0.7,\"#b8e186\"],[0.8,\"#7fbc41\"],[0.9,\"#4d9221\"],[1,\"#276419\"]]},\"xaxis\":{\"gridcolor\":\"white\",\"linecolor\":\"white\",\"ticks\":\"\",\"title\":{\"standoff\":15},\"zerolinecolor\":\"white\",\"automargin\":true,\"zerolinewidth\":2},\"yaxis\":{\"gridcolor\":\"white\",\"linecolor\":\"white\",\"ticks\":\"\",\"title\":{\"standoff\":15},\"zerolinecolor\":\"white\",\"automargin\":true,\"zerolinewidth\":2},\"scene\":{\"xaxis\":{\"backgroundcolor\":\"#E5ECF6\",\"gridcolor\":\"white\",\"linecolor\":\"white\",\"showbackground\":true,\"ticks\":\"\",\"zerolinecolor\":\"white\",\"gridwidth\":2},\"yaxis\":{\"backgroundcolor\":\"#E5ECF6\",\"gridcolor\":\"white\",\"linecolor\":\"white\",\"showbackground\":true,\"ticks\":\"\",\"zerolinecolor\":\"white\",\"gridwidth\":2},\"zaxis\":{\"backgroundcolor\":\"#E5ECF6\",\"gridcolor\":\"white\",\"linecolor\":\"white\",\"showbackground\":true,\"ticks\":\"\",\"zerolinecolor\":\"white\",\"gridwidth\":2}},\"shapedefaults\":{\"line\":{\"color\":\"#2a3f5f\"}},\"annotationdefaults\":{\"arrowcolor\":\"#2a3f5f\",\"arrowhead\":0,\"arrowwidth\":1},\"geo\":{\"bgcolor\":\"white\",\"landcolor\":\"#E5ECF6\",\"subunitcolor\":\"white\",\"showland\":true,\"showlakes\":true,\"lakecolor\":\"white\"},\"title\":{\"x\":0.05},\"mapbox\":{\"style\":\"light\"}}},\"updatemenus\":[{\"buttons\":[{\"args\":[{\"visible\":[true,false,false,false,false,false,false,false,false,false,false,false,false,false,false,false,false,false,false,false,false,false,false,false,false,false,false,false,false,false,false,false,false,false,false]}],\"label\":\"Fish\",\"method\":\"update\"},{\"args\":[{\"visible\":[false,true,false,false,false,false,false,false,false,false,false,false,false,false,false,false,false,false,false,false,false,false,false,false,false,false,false,false,false,false,false,false,false,false,false]}],\"label\":\"Fruit\",\"method\":\"update\"},{\"args\":[{\"visible\":[false,false,true,false,false,false,false,false,false,false,false,false,false,false,false,false,false,false,false,false,false,false,false,false,false,false,false,false,false,false,false,false,false,false,false]}],\"label\":\"Dish\",\"method\":\"update\"},{\"args\":[{\"visible\":[false,false,false,true,false,false,false,false,false,false,false,false,false,false,false,false,false,false,false,false,false,false,false,false,false,false,false,false,false,false,false,false,false,false,false]}],\"label\":\"Herb\",\"method\":\"update\"},{\"args\":[{\"visible\":[false,false,false,false,true,false,false,false,false,false,false,false,false,false,false,false,false,false,false,false,false,false,false,false,false,false,false,false,false,false,false,false,false,false,false]}],\"label\":\"Dairy\",\"method\":\"update\"},{\"args\":[{\"visible\":[false,false,false,false,false,true,false,false,false,false,false,false,false,false,false,false,false,false,false,false,false,false,false,false,false,false,false,false,false,false,false,false,false,false,false]}],\"label\":\"Meat\",\"method\":\"update\"},{\"args\":[{\"visible\":[false,false,false,false,false,false,true,false,false,false,false,false,false,false,false,false,false,false,false,false,false,false,false,false,false,false,false,false,false,false,false,false,false,false,false]}],\"label\":\"Plant\",\"method\":\"update\"},{\"args\":[{\"visible\":[false,false,false,false,false,false,false,true,false,false,false,false,false,false,false,false,false,false,false,false,false,false,false,false,false,false,false,false,false,false,false,false,false,false,false]}],\"label\":\"Beverage Alcoholic\",\"method\":\"update\"},{\"args\":[{\"visible\":[false,false,false,false,false,false,false,false,true,false,false,false,false,false,false,false,false,false,false,false,false,false,false,false,false,false,false,false,false,false,false,false,false,false,false]}],\"label\":\"Essential Oil\",\"method\":\"update\"},{\"args\":[{\"visible\":[false,false,false,false,false,false,false,false,false,true,false,false,false,false,false,false,false,false,false,false,false,false,false,false,false,false,false,false,false,false,false,false,false,false,false]}],\"label\":\"Berry\",\"method\":\"update\"},{\"args\":[{\"visible\":[false,false,false,false,false,false,false,false,false,false,true,false,false,false,false,false,false,false,false,false,false,false,false,false,false,false,false,false,false,false,false,false,false,false,false]}],\"label\":\"Seafood\",\"method\":\"update\"},{\"args\":[{\"visible\":[false,false,false,false,false,false,false,false,false,false,false,true,false,false,false,false,false,false,false,false,false,false,false,false,false,false,false,false,false,false,false,false,false,false,false]}],\"label\":\"Bakery\",\"method\":\"update\"},{\"args\":[{\"visible\":[false,false,false,false,false,false,false,false,false,false,false,false,true,false,false,false,false,false,false,false,false,false,false,false,false,false,false,false,false,false,false,false,false,false,false]}],\"label\":\"Spice\",\"method\":\"update\"},{\"args\":[{\"visible\":[false,false,false,false,false,false,false,false,false,false,false,false,false,true,false,false,false,false,false,false,false,false,false,false,false,false,false,false,false,false,false,false,false,false,false]}],\"label\":\"Additive\",\"method\":\"update\"},{\"args\":[{\"visible\":[false,false,false,false,false,false,false,false,false,false,false,false,false,false,true,false,false,false,false,false,false,false,false,false,false,false,false,false,false,false,false,false,false,false,false]}],\"label\":\"Vegetable\",\"method\":\"update\"},{\"args\":[{\"visible\":[false,false,false,false,false,false,false,false,false,false,false,false,false,false,false,true,false,false,false,false,false,false,false,false,false,false,false,false,false,false,false,false,false,false,false]}],\"label\":\"Cereal\",\"method\":\"update\"},{\"args\":[{\"visible\":[false,false,false,false,false,false,false,false,false,false,false,false,false,false,false,false,true,false,false,false,false,false,false,false,false,false,false,false,false,false,false,false,false,false,false]}],\"label\":\"Legume\",\"method\":\"update\"},{\"args\":[{\"visible\":[false,false,false,false,false,false,false,false,false,false,false,false,false,false,false,false,false,true,false,false,false,false,false,false,false,false,false,false,false,false,false,false,false,false,false]}],\"label\":\"Nut\",\"method\":\"update\"},{\"args\":[{\"visible\":[false,false,false,false,false,false,false,false,false,false,false,false,false,false,false,false,false,false,true,false,false,false,false,false,false,false,false,false,false,false,false,false,false,false,false]}],\"label\":\"Plant Derivative\",\"method\":\"update\"},{\"args\":[{\"visible\":[false,false,false,false,false,false,false,false,false,false,false,false,false,false,false,false,false,false,false,true,false,false,false,false,false,false,false,false,false,false,false,false,false,false,false]}],\"label\":\"Cabbage\",\"method\":\"update\"},{\"args\":[{\"visible\":[false,false,false,false,false,false,false,false,false,false,false,false,false,false,false,false,false,false,false,false,true,false,false,false,false,false,false,false,false,false,false,false,false,false,false]}],\"label\":\"Beverage\",\"method\":\"update\"},{\"args\":[{\"visible\":[false,false,false,false,false,false,false,false,false,false,false,false,false,false,false,false,false,false,false,false,false,true,false,false,false,false,false,false,false,false,false,false,false,false,false]}],\"label\":\"Fungus\",\"method\":\"update\"},{\"args\":[{\"visible\":[false,false,false,false,false,false,false,false,false,false,false,false,false,false,false,false,false,false,false,false,false,false,true,false,false,false,false,false,false,false,false,false,false,false,false]}],\"label\":\"Fruit Citrus\",\"method\":\"update\"},{\"args\":[{\"visible\":[false,false,false,false,false,false,false,false,false,false,false,false,false,false,false,false,false,false,false,false,false,false,false,true,false,false,false,false,false,false,false,false,false,false,false]}],\"label\":\"Vegetable Tuber\",\"method\":\"update\"},{\"args\":[{\"visible\":[false,false,false,false,false,false,false,false,false,false,false,false,false,false,false,false,false,false,false,false,false,false,false,false,true,false,false,false,false,false,false,false,false,false,false]}],\"label\":\"Flower\",\"method\":\"update\"},{\"args\":[{\"visible\":[false,false,false,false,false,false,false,false,false,false,false,false,false,false,false,false,false,false,false,false,false,false,false,false,false,true,false,false,false,false,false,false,false,false,false]}],\"label\":\"Vegetable Root\",\"method\":\"update\"},{\"args\":[{\"visible\":[false,false,false,false,false,false,false,false,false,false,false,false,false,false,false,false,false,false,false,false,false,false,false,false,false,false,true,false,false,false,false,false,false,false,false]}],\"label\":\"Gourd\",\"method\":\"update\"},{\"args\":[{\"visible\":[false,false,false,false,false,false,false,false,false,false,false,false,false,false,false,false,false,false,false,false,false,false,false,false,false,false,false,true,false,false,false,false,false,false,false]}],\"label\":\"Beverage Caffeinated\",\"method\":\"update\"},{\"args\":[{\"visible\":[false,false,false,false,false,false,false,false,false,false,false,false,false,false,false,false,false,false,false,false,false,false,false,false,false,false,false,false,true,false,false,false,false,false,false]}],\"label\":\"Maize\",\"method\":\"update\"},{\"args\":[{\"visible\":[false,false,false,false,false,false,false,false,false,false,false,false,false,false,false,false,false,false,false,false,false,false,false,false,false,false,false,false,false,true,false,false,false,false,false]}],\"label\":\"Seed\",\"method\":\"update\"},{\"args\":[{\"visible\":[false,false,false,false,false,false,false,false,false,false,false,false,false,false,false,false,false,false,false,false,false,false,false,false,false,false,false,false,false,false,true,false,false,false,false]}],\"label\":\"Vegetable Fruit\",\"method\":\"update\"},{\"args\":[{\"visible\":[false,false,false,false,false,false,false,false,false,false,false,false,false,false,false,false,false,false,false,false,false,false,false,false,false,false,false,false,false,false,false,true,false,false,false]}],\"label\":\"Fruit Essence\",\"method\":\"update\"},{\"args\":[{\"visible\":[false,false,false,false,false,false,false,false,false,false,false,false,false,false,false,false,false,false,false,false,false,false,false,false,false,false,false,false,false,false,false,false,true,false,false]}],\"label\":\"Fruit-Berry\",\"method\":\"update\"},{\"args\":[{\"visible\":[false,false,false,false,false,false,false,false,false,false,false,false,false,false,false,false,false,false,false,false,false,false,false,false,false,false,false,false,false,false,false,false,false,true,false]}],\"label\":\"Vegetable Stem\",\"method\":\"update\"},{\"args\":[{\"visible\":[false,false,false,false,false,false,false,false,false,false,false,false,false,false,false,false,false,false,false,false,false,false,false,false,false,false,false,false,false,false,false,false,false,false,true]}],\"label\":\"Animal Product\",\"method\":\"update\"}],\"direction\":\"down\",\"type\":\"buttons\"}],\"title\":{\"text\":\"Top Categories\"}},                        {\"responsive\": true}                    ).then(function(){\n",
              "                            \n",
              "var gd = document.getElementById('665a77e9-d3e2-4365-b908-3129e529aece');\n",
              "var x = new MutationObserver(function (mutations, observer) {{\n",
              "        var display = window.getComputedStyle(gd).display;\n",
              "        if (!display || display === 'none') {{\n",
              "            console.log([gd, 'removed!']);\n",
              "            Plotly.purge(gd);\n",
              "            observer.disconnect();\n",
              "        }}\n",
              "}});\n",
              "\n",
              "// Listen for the removal of the full notebook cells\n",
              "var notebookContainer = gd.closest('#notebook-container');\n",
              "if (notebookContainer) {{\n",
              "    x.observe(notebookContainer, {childList: true});\n",
              "}}\n",
              "\n",
              "// Listen for the clearing of the current output cell\n",
              "var outputEl = gd.closest('.output');\n",
              "if (outputEl) {{\n",
              "    x.observe(outputEl, {childList: true});\n",
              "}}\n",
              "\n",
              "                        })                };                            </script>        </div>\n",
              "</body>\n",
              "</html>"
            ]
          },
          "metadata": {}
        }
      ]
    },
    {
      "cell_type": "markdown",
      "source": [
        "## Sub-Categories(Unique)"
      ],
      "metadata": {
        "id": "EHk547kSCJw2"
      }
    },
    {
      "cell_type": "code",
      "source": [
        "import pandas as pd\n",
        "import plotly.graph_objects as go\n",
        "\n",
        "# Step 1: Load Data\n",
        "data = pd.read_csv('fdb_entities.csv')\n",
        "\n",
        "# Step 2: Data Preparation\n",
        "# Combine names based on the first word of '-' separated name\n",
        "def split_first_word(x):\n",
        "    if isinstance(x, str):\n",
        "        return x.split('-')[0]\n",
        "    else:\n",
        "        return x\n",
        "\n",
        "data['entity_alias'] = data['entity_alias'].apply(split_first_word)\n",
        "\n",
        "category_counts = data['category_readable'].value_counts()\n",
        "subcategory_data = {}\n",
        "for category in category_counts.index:\n",
        "    subcategory_counts = data[data['category_readable'] == category]['entity_alias'].value_counts()\n",
        "    subcategory_data[category] = subcategory_counts\n",
        "\n",
        "# Step 3: Create Initial Pie Chart\n",
        "fig = go.Figure()\n",
        "\n",
        "for category in category_counts.index:\n",
        "    fig.add_trace(go.Pie(labels=subcategory_data[category].index,\n",
        "                         values=subcategory_data[category].values,\n",
        "                         name=category,\n",
        "                         visible='legendonly'))  # Initially hide all but first pie chart\n",
        "\n",
        "fig.update_layout(updatemenus=[dict(type='buttons',\n",
        "                                    direction='down',\n",
        "                                    buttons=[dict(label=category,\n",
        "                                                  method='update',\n",
        "                                                  args=[{'visible': [category == trace.name for trace in fig.data]}])\n",
        "                                             for category in category_counts.index])])\n",
        "\n",
        "fig.update_layout(title='Top Categories')\n",
        "\n",
        "# Step 5: Display Interactive Plot\n",
        "fig.show()\n"
      ],
      "metadata": {
        "colab": {
          "base_uri": "https://localhost:8080/",
          "height": 542
        },
        "id": "shwNebou8Xjp",
        "outputId": "ec3763bd-90a2-4fe3-b5bc-5234ed5ee2de"
      },
      "execution_count": 17,
      "outputs": [
        {
          "output_type": "display_data",
          "data": {
            "text/html": [
              "<html>\n",
              "<head><meta charset=\"utf-8\" /></head>\n",
              "<body>\n",
              "    <div>            <script src=\"https://cdnjs.cloudflare.com/ajax/libs/mathjax/2.7.5/MathJax.js?config=TeX-AMS-MML_SVG\"></script><script type=\"text/javascript\">if (window.MathJax && window.MathJax.Hub && window.MathJax.Hub.Config) {window.MathJax.Hub.Config({SVG: {font: \"STIX-Web\"}});}</script>                <script type=\"text/javascript\">window.PlotlyConfig = {MathJaxConfig: 'local'};</script>\n",
              "        <script charset=\"utf-8\" src=\"https://cdn.plot.ly/plotly-2.24.1.min.js\"></script>                <div id=\"c7176780-644d-474c-920e-4113690e77ba\" class=\"plotly-graph-div\" style=\"height:525px; width:100%;\"></div>            <script type=\"text/javascript\">                                    window.PLOTLYENV=window.PLOTLYENV || {};                                    if (document.getElementById(\"c7176780-644d-474c-920e-4113690e77ba\")) {                    Plotly.newPlot(                        \"c7176780-644d-474c-920e-4113690e77ba\",                        [{\"labels\":[\"fish\",\"bonito\",\"caviar\",\"codfish\",\"salmon\"],\"name\":\"Fish\",\"values\":[5,1,1,1,1],\"visible\":\"legendonly\",\"type\":\"pie\"},{\"labels\":[\"currant\",\"pear\",\"apple\",\"quince\",\"plum\",\"passionfruit\",\"papaya\",\"orange\",\"melon\",\"coconut\",\"roseapple\",\"banana\",\"pepino\",\"pineapple\",\"babaco\",\"pumpkin\",\"avocado\",\"raisin\",\"sapodilla\",\"pawpaw\",\"soursop\",\"spinelessmonkeyorange\",\"starfruit\",\"tamarind\",\"woodapple\",\"pomegranate\",\"waterchestnut\",\"peach\",\"beli\",\"cherimoya\",\"jackfruit\",\"dates\",\"durian\",\"feijoa\",\"fig\",\"grape\",\"guava\",\"hogplum\",\"kiwi\",\"byrsonima\",\"litchi\",\"loquat\",\"malayapple\",\"mango\",\"apricot\",\"naranjilla\",\"cashewapple\",\"garciniaindica\"],\"name\":\"Fruit\",\"values\":[4,3,2,2,2,2,2,2,2,1,1,1,1,1,1,1,1,1,1,1,1,1,1,1,1,1,1,1,1,1,1,1,1,1,1,1,1,1,1,1,1,1,1,1,1,1,1,1],\"visible\":\"legendonly\",\"type\":\"pie\"},{\"labels\":[\"frankfurter\"],\"name\":\"Dish\",\"values\":[1],\"visible\":\"legendonly\",\"type\":\"pie\"},{\"labels\":[\"spearmint\",\"angelica\",\"lemonbalm\",\"peppermint\",\"thyme\",\"tarragon\",\"sage\",\"rosemary\",\"rhubarb\",\"mint\",\"liquorice\",\"garlic\",\"artemisia\",\"fenugreek\",\"fennel\",\"dill\",\"cornmint\",\"coriander\",\"chervil\",\"calamus\",\"buckwheat\",\"basil\",\"curryleaf\"],\"name\":\"Herb\",\"values\":[2,1,1,1,1,1,1,1,1,1,1,1,1,1,1,1,1,1,1,1,1,1,1],\"visible\":\"legendonly\",\"type\":\"pie\"},{\"labels\":[\"cheese\",\"milk\",\"butter\",\"buttermilk\",\"dairy\",\"ghee\",\"yogurt\",\"paneer\"],\"name\":\"Dairy\",\"values\":[25,6,1,1,1,1,1,1],\"visible\":\"legendonly\",\"type\":\"pie\"},{\"labels\":[\"beef\",\"chicken\",\"ham\",\"lamb\",\"meat\",\"mutton\",\"pork\",\"sukiyaki\",\"turkey\"],\"name\":\"Meat\",\"values\":[2,1,1,1,1,1,1,1,1],\"visible\":\"legendonly\",\"type\":\"pie\"},{\"labels\":[\"allium\",\"alpinia\",\"ceriman\",\"chicory\",\"hops\",\"laurel\",\"myrtle\",\"olive\",\"pine\",\"sassafras\",\"tea\",\"tobacco\",\"watercress\"],\"name\":\"Plant\",\"values\":[1,1,1,1,1,1,1,1,1,1,1,1,1],\"visible\":\"legendonly\",\"type\":\"pie\"},{\"labels\":[\"wine\",\"brandy\",\"whisky\",\"beer\",\"arrack\",\"gin\",\"rum\"],\"name\":\"Beverage Alcoholic\",\"values\":[14,12,7,2,1,1,1],\"visible\":\"legendonly\",\"type\":\"pie\"},{\"labels\":[\"sage\",\"grass\",\"achillea\",\"mastic\",\"menthaoil\",\"myrrh\",\"nerolioil\",\"orange\",\"orris\",\"sandalwood\",\"lovage\",\"valerian\",\"wattle\",\"yarrow\",\"ylangylang\",\"canola\",\"kenaf\",\"lotus\",\"mandarinorange\",\"lime\",\"arar\",\"lemon\",\"buchu\",\"cajeput\",\"camphor\",\"cascarilla\",\"cedar\",\"chamomile\",\"citronella\",\"citrus\",\"eucalyptusoil\",\"fir\",\"geranium\",\"grapefruit\",\"hops\",\"hyacinth\",\"hyssopoil\",\"kewda\"],\"name\":\"Essential Oil\",\"values\":[3,3,1,1,1,1,1,1,1,1,1,1,1,1,1,1,1,1,1,1,1,1,1,1,1,1,1,1,1,1,1,1,1,1,1,1,1,1],\"visible\":\"legendonly\",\"type\":\"pie\"},{\"labels\":[\"cherry\",\"strawberry\",\"seabuckthorn\",\"berry\",\"bilberry\",\"blackberry\",\"blueberry\",\"cloudberry\",\"cranberry\",\"gooseberry\",\"lingonberry\",\"loganberry\",\"raspberry\"],\"name\":\"Berry\",\"values\":[4,2,1,1,1,1,1,1,1,1,1,1,1],\"visible\":\"legendonly\",\"type\":\"pie\"},{\"labels\":[\"shrimp\",\"clam\",\"crab\",\"crayfish\",\"kelp\",\"krill\",\"lobster\",\"mollusc\",\"oyster\",\"prawn\",\"scallop\",\"shellfish\",\"squid\"],\"name\":\"Seafood\",\"values\":[2,1,1,1,1,1,1,1,1,1,1,1,1],\"visible\":\"legendonly\",\"type\":\"pie\"},{\"labels\":[\"bread\",\"bakery\",\"potato\"],\"name\":\"Bakery\",\"values\":[5,1,1],\"visible\":\"legendonly\",\"type\":\"pie\"},{\"labels\":[\"anise\",\"pepper\",\"caraway\",\"jalapeno\",\"caromseed\",\"asafoetida\",\"allspice\",\"turmeric\",\"saffron\",\"parsley\",\"oregano\",\"nutmeg\",\"marjoram\",\"mace\",\"ginger\",\"cumin\",\"clove\",\"cinnamon\",\"celery\",\"cassia\",\"cardamom\",\"poppy\"],\"name\":\"Spice\",\"values\":[3,2,1,1,1,1,1,1,1,1,1,1,1,1,1,1,1,1,1,1,1,1],\"visible\":\"legendonly\",\"type\":\"pie\"},{\"labels\":[],\"name\":\"Additive\",\"values\":[],\"visible\":\"legendonly\",\"type\":\"pie\"},{\"labels\":[\"beans\",\"chive\",\"endive\",\"leek\",\"lettuce\",\"okra\",\"onion\",\"onionshallow\",\"chard\",\"colocasia\",\"drumstick\",\"eggplant\",\"spinach\"],\"name\":\"Vegetable\",\"values\":[1,1,1,1,1,1,1,1,1,1,1,1,1],\"visible\":\"legendonly\",\"type\":\"pie\"},{\"labels\":[\"barley\",\"crispbread\",\"malt\",\"oats\",\"rice\",\"ryeflour\",\"ricebasmati\"],\"name\":\"Cereal\",\"values\":[1,1,1,1,1,1,1],\"visible\":\"legendonly\",\"type\":\"pie\"},{\"labels\":[\"beans\",\"soybean\",\"peas\",\"pigeonpea\"],\"name\":\"Legume\",\"values\":[4,2,1,1],\"visible\":\"legendonly\",\"type\":\"pie\"},{\"labels\":[\"almond\",\"brazilnut\",\"peanut\",\"filbert\",\"hazelnut\",\"macadamianut\",\"nuts\",\"pecans\",\"walnut\"],\"name\":\"Nut\",\"values\":[1,1,1,1,1,1,1,1,1],\"visible\":\"legendonly\",\"type\":\"pie\"},{\"labels\":[\"peanut\",\"vinegar\",\"soybean\",\"tea\",\"creosote\",\"honey\",\"macaroni\",\"mustard\",\"storax\"],\"name\":\"Plant Derivative\",\"values\":[2,2,1,1,1,1,1,1,1],\"visible\":\"legendonly\",\"type\":\"pie\"},{\"labels\":[\"broccoli\",\"brusselssprout\",\"cabbage\",\"cauliflower\",\"horseradish\",\"mustard\",\"turnip\",\"wasabi\"],\"name\":\"Cabbage\",\"values\":[1,1,1,1,1,1,1,1],\"visible\":\"legendonly\",\"type\":\"pie\"},{\"labels\":[\"wort\"],\"name\":\"Beverage\",\"values\":[1],\"visible\":\"legendonly\",\"type\":\"pie\"},{\"labels\":[\"mushroom\",\"truffle\"],\"name\":\"Fungus\",\"values\":[1,1],\"visible\":\"legendonly\",\"type\":\"pie\"},{\"labels\":[\"bergamot\",\"citrus\",\"grapefruit\",\"kumquat\",\"lemon\",\"lime\",\"mandarinorange\",\"satsumamandarin\",\"tangerine\"],\"name\":\"Fruit Citrus\",\"values\":[1,1,1,1,1,1,1,1,1],\"visible\":\"legendonly\",\"type\":\"pie\"},{\"labels\":[\"cassava\",\"potato\"],\"name\":\"Vegetable Tuber\",\"values\":[1,1],\"visible\":\"legendonly\",\"type\":\"pie\"},{\"labels\":[\"artichoke\",\"champaca\",\"jasmine\",\"lavendar\",\"rose\"],\"name\":\"Flower\",\"values\":[1,1,1,1,1],\"visible\":\"legendonly\",\"type\":\"pie\"},{\"labels\":[\"turnip\",\"radish\",\"beetroot\",\"carrot\",\"parsnip\",\"sweetpotato\"],\"name\":\"Vegetable Root\",\"values\":[2,1,1,1,1,1],\"visible\":\"legendonly\",\"type\":\"pie\"},{\"labels\":[\"gourd\",\"cucumber\",\"ashgourd\",\"bittergourd\",\"bottlegourd\"],\"name\":\"Gourd\",\"values\":[1,1,1,1,1],\"visible\":\"legendonly\",\"type\":\"pie\"},{\"labels\":[\"tea\",\"coffee\",\"mate\"],\"name\":\"Beverage Caffeinated\",\"values\":[3,1,1],\"visible\":\"legendonly\",\"type\":\"pie\"},{\"labels\":[\"corn\"],\"name\":\"Maize\",\"values\":[4],\"visible\":\"legendonly\",\"type\":\"pie\"},{\"labels\":[\"cocoa\",\"muskmallow\",\"sesame\",\"flaxseed\",\"nigella\"],\"name\":\"Seed\",\"values\":[1,1,1,1,1],\"visible\":\"legendonly\",\"type\":\"pie\"},{\"labels\":[\"capsicum\",\"pimiento\",\"tomato\",\"turkeyberry\"],\"name\":\"Vegetable Fruit\",\"values\":[1,1,1,1],\"visible\":\"legendonly\",\"type\":\"pie\"},{\"labels\":[\"vanilla\"],\"name\":\"Fruit Essence\",\"values\":[1],\"visible\":\"legendonly\",\"type\":\"pie\"},{\"labels\":[\"elderberry\"],\"name\":\"Fruit-Berry\",\"values\":[1],\"visible\":\"legendonly\",\"type\":\"pie\"},{\"labels\":[\"asparagus\"],\"name\":\"Vegetable Stem\",\"values\":[1],\"visible\":\"legendonly\",\"type\":\"pie\"},{\"labels\":[\"egg\"],\"name\":\"Animal Product\",\"values\":[1],\"visible\":\"legendonly\",\"type\":\"pie\"}],                        {\"template\":{\"data\":{\"histogram2dcontour\":[{\"type\":\"histogram2dcontour\",\"colorbar\":{\"outlinewidth\":0,\"ticks\":\"\"},\"colorscale\":[[0.0,\"#0d0887\"],[0.1111111111111111,\"#46039f\"],[0.2222222222222222,\"#7201a8\"],[0.3333333333333333,\"#9c179e\"],[0.4444444444444444,\"#bd3786\"],[0.5555555555555556,\"#d8576b\"],[0.6666666666666666,\"#ed7953\"],[0.7777777777777778,\"#fb9f3a\"],[0.8888888888888888,\"#fdca26\"],[1.0,\"#f0f921\"]]}],\"choropleth\":[{\"type\":\"choropleth\",\"colorbar\":{\"outlinewidth\":0,\"ticks\":\"\"}}],\"histogram2d\":[{\"type\":\"histogram2d\",\"colorbar\":{\"outlinewidth\":0,\"ticks\":\"\"},\"colorscale\":[[0.0,\"#0d0887\"],[0.1111111111111111,\"#46039f\"],[0.2222222222222222,\"#7201a8\"],[0.3333333333333333,\"#9c179e\"],[0.4444444444444444,\"#bd3786\"],[0.5555555555555556,\"#d8576b\"],[0.6666666666666666,\"#ed7953\"],[0.7777777777777778,\"#fb9f3a\"],[0.8888888888888888,\"#fdca26\"],[1.0,\"#f0f921\"]]}],\"heatmap\":[{\"type\":\"heatmap\",\"colorbar\":{\"outlinewidth\":0,\"ticks\":\"\"},\"colorscale\":[[0.0,\"#0d0887\"],[0.1111111111111111,\"#46039f\"],[0.2222222222222222,\"#7201a8\"],[0.3333333333333333,\"#9c179e\"],[0.4444444444444444,\"#bd3786\"],[0.5555555555555556,\"#d8576b\"],[0.6666666666666666,\"#ed7953\"],[0.7777777777777778,\"#fb9f3a\"],[0.8888888888888888,\"#fdca26\"],[1.0,\"#f0f921\"]]}],\"heatmapgl\":[{\"type\":\"heatmapgl\",\"colorbar\":{\"outlinewidth\":0,\"ticks\":\"\"},\"colorscale\":[[0.0,\"#0d0887\"],[0.1111111111111111,\"#46039f\"],[0.2222222222222222,\"#7201a8\"],[0.3333333333333333,\"#9c179e\"],[0.4444444444444444,\"#bd3786\"],[0.5555555555555556,\"#d8576b\"],[0.6666666666666666,\"#ed7953\"],[0.7777777777777778,\"#fb9f3a\"],[0.8888888888888888,\"#fdca26\"],[1.0,\"#f0f921\"]]}],\"contourcarpet\":[{\"type\":\"contourcarpet\",\"colorbar\":{\"outlinewidth\":0,\"ticks\":\"\"}}],\"contour\":[{\"type\":\"contour\",\"colorbar\":{\"outlinewidth\":0,\"ticks\":\"\"},\"colorscale\":[[0.0,\"#0d0887\"],[0.1111111111111111,\"#46039f\"],[0.2222222222222222,\"#7201a8\"],[0.3333333333333333,\"#9c179e\"],[0.4444444444444444,\"#bd3786\"],[0.5555555555555556,\"#d8576b\"],[0.6666666666666666,\"#ed7953\"],[0.7777777777777778,\"#fb9f3a\"],[0.8888888888888888,\"#fdca26\"],[1.0,\"#f0f921\"]]}],\"surface\":[{\"type\":\"surface\",\"colorbar\":{\"outlinewidth\":0,\"ticks\":\"\"},\"colorscale\":[[0.0,\"#0d0887\"],[0.1111111111111111,\"#46039f\"],[0.2222222222222222,\"#7201a8\"],[0.3333333333333333,\"#9c179e\"],[0.4444444444444444,\"#bd3786\"],[0.5555555555555556,\"#d8576b\"],[0.6666666666666666,\"#ed7953\"],[0.7777777777777778,\"#fb9f3a\"],[0.8888888888888888,\"#fdca26\"],[1.0,\"#f0f921\"]]}],\"mesh3d\":[{\"type\":\"mesh3d\",\"colorbar\":{\"outlinewidth\":0,\"ticks\":\"\"}}],\"scatter\":[{\"fillpattern\":{\"fillmode\":\"overlay\",\"size\":10,\"solidity\":0.2},\"type\":\"scatter\"}],\"parcoords\":[{\"type\":\"parcoords\",\"line\":{\"colorbar\":{\"outlinewidth\":0,\"ticks\":\"\"}}}],\"scatterpolargl\":[{\"type\":\"scatterpolargl\",\"marker\":{\"colorbar\":{\"outlinewidth\":0,\"ticks\":\"\"}}}],\"bar\":[{\"error_x\":{\"color\":\"#2a3f5f\"},\"error_y\":{\"color\":\"#2a3f5f\"},\"marker\":{\"line\":{\"color\":\"#E5ECF6\",\"width\":0.5},\"pattern\":{\"fillmode\":\"overlay\",\"size\":10,\"solidity\":0.2}},\"type\":\"bar\"}],\"scattergeo\":[{\"type\":\"scattergeo\",\"marker\":{\"colorbar\":{\"outlinewidth\":0,\"ticks\":\"\"}}}],\"scatterpolar\":[{\"type\":\"scatterpolar\",\"marker\":{\"colorbar\":{\"outlinewidth\":0,\"ticks\":\"\"}}}],\"histogram\":[{\"marker\":{\"pattern\":{\"fillmode\":\"overlay\",\"size\":10,\"solidity\":0.2}},\"type\":\"histogram\"}],\"scattergl\":[{\"type\":\"scattergl\",\"marker\":{\"colorbar\":{\"outlinewidth\":0,\"ticks\":\"\"}}}],\"scatter3d\":[{\"type\":\"scatter3d\",\"line\":{\"colorbar\":{\"outlinewidth\":0,\"ticks\":\"\"}},\"marker\":{\"colorbar\":{\"outlinewidth\":0,\"ticks\":\"\"}}}],\"scattermapbox\":[{\"type\":\"scattermapbox\",\"marker\":{\"colorbar\":{\"outlinewidth\":0,\"ticks\":\"\"}}}],\"scatterternary\":[{\"type\":\"scatterternary\",\"marker\":{\"colorbar\":{\"outlinewidth\":0,\"ticks\":\"\"}}}],\"scattercarpet\":[{\"type\":\"scattercarpet\",\"marker\":{\"colorbar\":{\"outlinewidth\":0,\"ticks\":\"\"}}}],\"carpet\":[{\"aaxis\":{\"endlinecolor\":\"#2a3f5f\",\"gridcolor\":\"white\",\"linecolor\":\"white\",\"minorgridcolor\":\"white\",\"startlinecolor\":\"#2a3f5f\"},\"baxis\":{\"endlinecolor\":\"#2a3f5f\",\"gridcolor\":\"white\",\"linecolor\":\"white\",\"minorgridcolor\":\"white\",\"startlinecolor\":\"#2a3f5f\"},\"type\":\"carpet\"}],\"table\":[{\"cells\":{\"fill\":{\"color\":\"#EBF0F8\"},\"line\":{\"color\":\"white\"}},\"header\":{\"fill\":{\"color\":\"#C8D4E3\"},\"line\":{\"color\":\"white\"}},\"type\":\"table\"}],\"barpolar\":[{\"marker\":{\"line\":{\"color\":\"#E5ECF6\",\"width\":0.5},\"pattern\":{\"fillmode\":\"overlay\",\"size\":10,\"solidity\":0.2}},\"type\":\"barpolar\"}],\"pie\":[{\"automargin\":true,\"type\":\"pie\"}]},\"layout\":{\"autotypenumbers\":\"strict\",\"colorway\":[\"#636efa\",\"#EF553B\",\"#00cc96\",\"#ab63fa\",\"#FFA15A\",\"#19d3f3\",\"#FF6692\",\"#B6E880\",\"#FF97FF\",\"#FECB52\"],\"font\":{\"color\":\"#2a3f5f\"},\"hovermode\":\"closest\",\"hoverlabel\":{\"align\":\"left\"},\"paper_bgcolor\":\"white\",\"plot_bgcolor\":\"#E5ECF6\",\"polar\":{\"bgcolor\":\"#E5ECF6\",\"angularaxis\":{\"gridcolor\":\"white\",\"linecolor\":\"white\",\"ticks\":\"\"},\"radialaxis\":{\"gridcolor\":\"white\",\"linecolor\":\"white\",\"ticks\":\"\"}},\"ternary\":{\"bgcolor\":\"#E5ECF6\",\"aaxis\":{\"gridcolor\":\"white\",\"linecolor\":\"white\",\"ticks\":\"\"},\"baxis\":{\"gridcolor\":\"white\",\"linecolor\":\"white\",\"ticks\":\"\"},\"caxis\":{\"gridcolor\":\"white\",\"linecolor\":\"white\",\"ticks\":\"\"}},\"coloraxis\":{\"colorbar\":{\"outlinewidth\":0,\"ticks\":\"\"}},\"colorscale\":{\"sequential\":[[0.0,\"#0d0887\"],[0.1111111111111111,\"#46039f\"],[0.2222222222222222,\"#7201a8\"],[0.3333333333333333,\"#9c179e\"],[0.4444444444444444,\"#bd3786\"],[0.5555555555555556,\"#d8576b\"],[0.6666666666666666,\"#ed7953\"],[0.7777777777777778,\"#fb9f3a\"],[0.8888888888888888,\"#fdca26\"],[1.0,\"#f0f921\"]],\"sequentialminus\":[[0.0,\"#0d0887\"],[0.1111111111111111,\"#46039f\"],[0.2222222222222222,\"#7201a8\"],[0.3333333333333333,\"#9c179e\"],[0.4444444444444444,\"#bd3786\"],[0.5555555555555556,\"#d8576b\"],[0.6666666666666666,\"#ed7953\"],[0.7777777777777778,\"#fb9f3a\"],[0.8888888888888888,\"#fdca26\"],[1.0,\"#f0f921\"]],\"diverging\":[[0,\"#8e0152\"],[0.1,\"#c51b7d\"],[0.2,\"#de77ae\"],[0.3,\"#f1b6da\"],[0.4,\"#fde0ef\"],[0.5,\"#f7f7f7\"],[0.6,\"#e6f5d0\"],[0.7,\"#b8e186\"],[0.8,\"#7fbc41\"],[0.9,\"#4d9221\"],[1,\"#276419\"]]},\"xaxis\":{\"gridcolor\":\"white\",\"linecolor\":\"white\",\"ticks\":\"\",\"title\":{\"standoff\":15},\"zerolinecolor\":\"white\",\"automargin\":true,\"zerolinewidth\":2},\"yaxis\":{\"gridcolor\":\"white\",\"linecolor\":\"white\",\"ticks\":\"\",\"title\":{\"standoff\":15},\"zerolinecolor\":\"white\",\"automargin\":true,\"zerolinewidth\":2},\"scene\":{\"xaxis\":{\"backgroundcolor\":\"#E5ECF6\",\"gridcolor\":\"white\",\"linecolor\":\"white\",\"showbackground\":true,\"ticks\":\"\",\"zerolinecolor\":\"white\",\"gridwidth\":2},\"yaxis\":{\"backgroundcolor\":\"#E5ECF6\",\"gridcolor\":\"white\",\"linecolor\":\"white\",\"showbackground\":true,\"ticks\":\"\",\"zerolinecolor\":\"white\",\"gridwidth\":2},\"zaxis\":{\"backgroundcolor\":\"#E5ECF6\",\"gridcolor\":\"white\",\"linecolor\":\"white\",\"showbackground\":true,\"ticks\":\"\",\"zerolinecolor\":\"white\",\"gridwidth\":2}},\"shapedefaults\":{\"line\":{\"color\":\"#2a3f5f\"}},\"annotationdefaults\":{\"arrowcolor\":\"#2a3f5f\",\"arrowhead\":0,\"arrowwidth\":1},\"geo\":{\"bgcolor\":\"white\",\"landcolor\":\"#E5ECF6\",\"subunitcolor\":\"white\",\"showland\":true,\"showlakes\":true,\"lakecolor\":\"white\"},\"title\":{\"x\":0.05},\"mapbox\":{\"style\":\"light\"}}},\"updatemenus\":[{\"buttons\":[{\"args\":[{\"visible\":[true,false,false,false,false,false,false,false,false,false,false,false,false,false,false,false,false,false,false,false,false,false,false,false,false,false,false,false,false,false,false,false,false,false,false]}],\"label\":\"Fish\",\"method\":\"update\"},{\"args\":[{\"visible\":[false,true,false,false,false,false,false,false,false,false,false,false,false,false,false,false,false,false,false,false,false,false,false,false,false,false,false,false,false,false,false,false,false,false,false]}],\"label\":\"Fruit\",\"method\":\"update\"},{\"args\":[{\"visible\":[false,false,true,false,false,false,false,false,false,false,false,false,false,false,false,false,false,false,false,false,false,false,false,false,false,false,false,false,false,false,false,false,false,false,false]}],\"label\":\"Dish\",\"method\":\"update\"},{\"args\":[{\"visible\":[false,false,false,true,false,false,false,false,false,false,false,false,false,false,false,false,false,false,false,false,false,false,false,false,false,false,false,false,false,false,false,false,false,false,false]}],\"label\":\"Herb\",\"method\":\"update\"},{\"args\":[{\"visible\":[false,false,false,false,true,false,false,false,false,false,false,false,false,false,false,false,false,false,false,false,false,false,false,false,false,false,false,false,false,false,false,false,false,false,false]}],\"label\":\"Dairy\",\"method\":\"update\"},{\"args\":[{\"visible\":[false,false,false,false,false,true,false,false,false,false,false,false,false,false,false,false,false,false,false,false,false,false,false,false,false,false,false,false,false,false,false,false,false,false,false]}],\"label\":\"Meat\",\"method\":\"update\"},{\"args\":[{\"visible\":[false,false,false,false,false,false,true,false,false,false,false,false,false,false,false,false,false,false,false,false,false,false,false,false,false,false,false,false,false,false,false,false,false,false,false]}],\"label\":\"Plant\",\"method\":\"update\"},{\"args\":[{\"visible\":[false,false,false,false,false,false,false,true,false,false,false,false,false,false,false,false,false,false,false,false,false,false,false,false,false,false,false,false,false,false,false,false,false,false,false]}],\"label\":\"Beverage Alcoholic\",\"method\":\"update\"},{\"args\":[{\"visible\":[false,false,false,false,false,false,false,false,true,false,false,false,false,false,false,false,false,false,false,false,false,false,false,false,false,false,false,false,false,false,false,false,false,false,false]}],\"label\":\"Essential Oil\",\"method\":\"update\"},{\"args\":[{\"visible\":[false,false,false,false,false,false,false,false,false,true,false,false,false,false,false,false,false,false,false,false,false,false,false,false,false,false,false,false,false,false,false,false,false,false,false]}],\"label\":\"Berry\",\"method\":\"update\"},{\"args\":[{\"visible\":[false,false,false,false,false,false,false,false,false,false,true,false,false,false,false,false,false,false,false,false,false,false,false,false,false,false,false,false,false,false,false,false,false,false,false]}],\"label\":\"Seafood\",\"method\":\"update\"},{\"args\":[{\"visible\":[false,false,false,false,false,false,false,false,false,false,false,true,false,false,false,false,false,false,false,false,false,false,false,false,false,false,false,false,false,false,false,false,false,false,false]}],\"label\":\"Bakery\",\"method\":\"update\"},{\"args\":[{\"visible\":[false,false,false,false,false,false,false,false,false,false,false,false,true,false,false,false,false,false,false,false,false,false,false,false,false,false,false,false,false,false,false,false,false,false,false]}],\"label\":\"Spice\",\"method\":\"update\"},{\"args\":[{\"visible\":[false,false,false,false,false,false,false,false,false,false,false,false,false,true,false,false,false,false,false,false,false,false,false,false,false,false,false,false,false,false,false,false,false,false,false]}],\"label\":\"Additive\",\"method\":\"update\"},{\"args\":[{\"visible\":[false,false,false,false,false,false,false,false,false,false,false,false,false,false,true,false,false,false,false,false,false,false,false,false,false,false,false,false,false,false,false,false,false,false,false]}],\"label\":\"Vegetable\",\"method\":\"update\"},{\"args\":[{\"visible\":[false,false,false,false,false,false,false,false,false,false,false,false,false,false,false,true,false,false,false,false,false,false,false,false,false,false,false,false,false,false,false,false,false,false,false]}],\"label\":\"Cereal\",\"method\":\"update\"},{\"args\":[{\"visible\":[false,false,false,false,false,false,false,false,false,false,false,false,false,false,false,false,true,false,false,false,false,false,false,false,false,false,false,false,false,false,false,false,false,false,false]}],\"label\":\"Legume\",\"method\":\"update\"},{\"args\":[{\"visible\":[false,false,false,false,false,false,false,false,false,false,false,false,false,false,false,false,false,true,false,false,false,false,false,false,false,false,false,false,false,false,false,false,false,false,false]}],\"label\":\"Nut\",\"method\":\"update\"},{\"args\":[{\"visible\":[false,false,false,false,false,false,false,false,false,false,false,false,false,false,false,false,false,false,true,false,false,false,false,false,false,false,false,false,false,false,false,false,false,false,false]}],\"label\":\"Plant Derivative\",\"method\":\"update\"},{\"args\":[{\"visible\":[false,false,false,false,false,false,false,false,false,false,false,false,false,false,false,false,false,false,false,true,false,false,false,false,false,false,false,false,false,false,false,false,false,false,false]}],\"label\":\"Cabbage\",\"method\":\"update\"},{\"args\":[{\"visible\":[false,false,false,false,false,false,false,false,false,false,false,false,false,false,false,false,false,false,false,false,true,false,false,false,false,false,false,false,false,false,false,false,false,false,false]}],\"label\":\"Beverage\",\"method\":\"update\"},{\"args\":[{\"visible\":[false,false,false,false,false,false,false,false,false,false,false,false,false,false,false,false,false,false,false,false,false,true,false,false,false,false,false,false,false,false,false,false,false,false,false]}],\"label\":\"Fungus\",\"method\":\"update\"},{\"args\":[{\"visible\":[false,false,false,false,false,false,false,false,false,false,false,false,false,false,false,false,false,false,false,false,false,false,true,false,false,false,false,false,false,false,false,false,false,false,false]}],\"label\":\"Fruit Citrus\",\"method\":\"update\"},{\"args\":[{\"visible\":[false,false,false,false,false,false,false,false,false,false,false,false,false,false,false,false,false,false,false,false,false,false,false,true,false,false,false,false,false,false,false,false,false,false,false]}],\"label\":\"Vegetable Tuber\",\"method\":\"update\"},{\"args\":[{\"visible\":[false,false,false,false,false,false,false,false,false,false,false,false,false,false,false,false,false,false,false,false,false,false,false,false,true,false,false,false,false,false,false,false,false,false,false]}],\"label\":\"Flower\",\"method\":\"update\"},{\"args\":[{\"visible\":[false,false,false,false,false,false,false,false,false,false,false,false,false,false,false,false,false,false,false,false,false,false,false,false,false,true,false,false,false,false,false,false,false,false,false]}],\"label\":\"Vegetable Root\",\"method\":\"update\"},{\"args\":[{\"visible\":[false,false,false,false,false,false,false,false,false,false,false,false,false,false,false,false,false,false,false,false,false,false,false,false,false,false,true,false,false,false,false,false,false,false,false]}],\"label\":\"Gourd\",\"method\":\"update\"},{\"args\":[{\"visible\":[false,false,false,false,false,false,false,false,false,false,false,false,false,false,false,false,false,false,false,false,false,false,false,false,false,false,false,true,false,false,false,false,false,false,false]}],\"label\":\"Beverage Caffeinated\",\"method\":\"update\"},{\"args\":[{\"visible\":[false,false,false,false,false,false,false,false,false,false,false,false,false,false,false,false,false,false,false,false,false,false,false,false,false,false,false,false,true,false,false,false,false,false,false]}],\"label\":\"Maize\",\"method\":\"update\"},{\"args\":[{\"visible\":[false,false,false,false,false,false,false,false,false,false,false,false,false,false,false,false,false,false,false,false,false,false,false,false,false,false,false,false,false,true,false,false,false,false,false]}],\"label\":\"Seed\",\"method\":\"update\"},{\"args\":[{\"visible\":[false,false,false,false,false,false,false,false,false,false,false,false,false,false,false,false,false,false,false,false,false,false,false,false,false,false,false,false,false,false,true,false,false,false,false]}],\"label\":\"Vegetable Fruit\",\"method\":\"update\"},{\"args\":[{\"visible\":[false,false,false,false,false,false,false,false,false,false,false,false,false,false,false,false,false,false,false,false,false,false,false,false,false,false,false,false,false,false,false,true,false,false,false]}],\"label\":\"Fruit Essence\",\"method\":\"update\"},{\"args\":[{\"visible\":[false,false,false,false,false,false,false,false,false,false,false,false,false,false,false,false,false,false,false,false,false,false,false,false,false,false,false,false,false,false,false,false,true,false,false]}],\"label\":\"Fruit-Berry\",\"method\":\"update\"},{\"args\":[{\"visible\":[false,false,false,false,false,false,false,false,false,false,false,false,false,false,false,false,false,false,false,false,false,false,false,false,false,false,false,false,false,false,false,false,false,true,false]}],\"label\":\"Vegetable Stem\",\"method\":\"update\"},{\"args\":[{\"visible\":[false,false,false,false,false,false,false,false,false,false,false,false,false,false,false,false,false,false,false,false,false,false,false,false,false,false,false,false,false,false,false,false,false,false,true]}],\"label\":\"Animal Product\",\"method\":\"update\"}],\"direction\":\"down\",\"type\":\"buttons\"}],\"title\":{\"text\":\"Top Categories\"}},                        {\"responsive\": true}                    ).then(function(){\n",
              "                            \n",
              "var gd = document.getElementById('c7176780-644d-474c-920e-4113690e77ba');\n",
              "var x = new MutationObserver(function (mutations, observer) {{\n",
              "        var display = window.getComputedStyle(gd).display;\n",
              "        if (!display || display === 'none') {{\n",
              "            console.log([gd, 'removed!']);\n",
              "            Plotly.purge(gd);\n",
              "            observer.disconnect();\n",
              "        }}\n",
              "}});\n",
              "\n",
              "// Listen for the removal of the full notebook cells\n",
              "var notebookContainer = gd.closest('#notebook-container');\n",
              "if (notebookContainer) {{\n",
              "    x.observe(notebookContainer, {childList: true});\n",
              "}}\n",
              "\n",
              "// Listen for the clearing of the current output cell\n",
              "var outputEl = gd.closest('.output');\n",
              "if (outputEl) {{\n",
              "    x.observe(outputEl, {childList: true});\n",
              "}}\n",
              "\n",
              "                        })                };                            </script>        </div>\n",
              "</body>\n",
              "</html>"
            ]
          },
          "metadata": {}
        }
      ]
    },
    {
      "cell_type": "markdown",
      "source": [
        "## Category Tree Map"
      ],
      "metadata": {
        "id": "GHsmDuquCUOb"
      }
    },
    {
      "cell_type": "code",
      "source": [
        "import pandas as pd\n",
        "import plotly.express as px\n",
        "\n",
        "# Step 1: Load Data\n",
        "data = pd.read_csv('fdb_entities.csv')\n",
        "\n",
        "# Step 2: Data Preparation\n",
        "category_counts = data['category_readable'].value_counts()\n",
        "subcategory_data = {}\n",
        "for category in category_counts.index:\n",
        "    subcategory_counts = data[data['category_readable'] == category]['entity_alias'].value_counts()\n",
        "    subcategory_data[category] = subcategory_counts\n",
        "\n",
        "# Step 3: Create Initial Treemap\n",
        "fig = px.treemap(names=category_counts.index,\n",
        "                 parents=['']*len(category_counts),\n",
        "                 values=category_counts.values,\n",
        "                 hover_data=[category_counts.index, category_counts.values],\n",
        "                 title='Top Categories')\n",
        "\n",
        "# Step 4: Add Clickable Behavior\n",
        "def update_treemap(trace, points, selector):\n",
        "    category = points.label['name']\n",
        "    subcategory_counts = subcategory_data[category]\n",
        "    subfig = px.treemap(names=subcategory_counts.index,\n",
        "                        parents=['']*len(subcategory_counts),\n",
        "                        values=subcategory_counts.values,\n",
        "                        hover_data=[subcategory_counts.index, subcategory_counts.values],\n",
        "                        title=f'Subcategories of {category}')\n",
        "    subfig.show()\n",
        "\n",
        "fig.for_each_trace(lambda t: t.on_click(update_treemap))\n",
        "\n",
        "# Step 5: Display Treemap\n",
        "fig.show()\n"
      ],
      "metadata": {
        "id": "lNwPZXxe8f7l"
      },
      "execution_count": null,
      "outputs": []
    },
    {
      "cell_type": "code",
      "source": [
        "import pandas as pd\n",
        "import plotly.express as px\n",
        "\n",
        "# Read the CSV file\n",
        "df = pd.read_csv(\"fdb_molecules.csv\")\n",
        "\n",
        "# Split the flavor_profile column by '@' and explode into separate rows\n",
        "df['flavor_profile'] = df['flavor_profile'].str.split('@')\n",
        "df = df.explode('flavor_profile')\n",
        "\n",
        "# Get the top 15 flavor profiles\n",
        "top_flavor_profiles = df['flavor_profile'].value_counts().head(30)\n",
        "\n",
        "# Create treemap for flavor profiles\n",
        "fig = px.treemap(names=top_flavor_profiles.index,\n",
        "                 parents=['']*len(top_flavor_profiles),\n",
        "                 values=top_flavor_profiles.values,\n",
        "                 title='Top 30 Flavor Profiles Treemap')\n",
        "fig.show()\n",
        "\n",
        "# Similarly, for fooddb_flavor_profile\n",
        "df['fooddb_flavor_profile'] = df['fooddb_flavor_profile'].str.split('@')\n",
        "df = df.explode('fooddb_flavor_profile')\n",
        "\n",
        "# Get the top 15 fooddb_flavor_profiles\n",
        "top_fooddb_flavor_profiles = df['fooddb_flavor_profile'].value_counts().head(30)\n",
        "\n",
        "# Create treemap for fooddb_flavor_profiles\n",
        "fig = px.treemap(names=top_fooddb_flavor_profiles.index,\n",
        "                 parents=['']*len(top_fooddb_flavor_profiles),\n",
        "                 values=top_fooddb_flavor_profiles.values,\n",
        "                 title='Top 30 FoodDB Flavor Profiles Treemap')\n",
        "fig.show()\n"
      ],
      "metadata": {
        "id": "OqH6Gf8W8gtS"
      },
      "execution_count": null,
      "outputs": []
    }
  ]
}